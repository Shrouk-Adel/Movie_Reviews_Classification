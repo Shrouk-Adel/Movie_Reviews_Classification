{
  "nbformat": 4,
  "nbformat_minor": 0,
  "metadata": {
    "colab": {
      "provenance": []
    },
    "kernelspec": {
      "name": "python3",
      "display_name": "Python 3"
    },
    "language_info": {
      "name": "python"
    }
  },
  "cells": [
    {
      "cell_type": "markdown",
      "source": [
        "# Build BOW Model"
      ],
      "metadata": {
        "id": "-jOlVLS3xZma"
      }
    },
    {
      "cell_type": "code",
      "execution_count": 39,
      "metadata": {
        "colab": {
          "base_uri": "https://localhost:8080/"
        },
        "id": "t92T4FO8gAcI",
        "outputId": "06084fe6-a2c3-403c-9851-4d38d75064fb"
      },
      "outputs": [
        {
          "output_type": "stream",
          "name": "stderr",
          "text": [
            "[nltk_data] Downloading package stopwords to /root/nltk_data...\n",
            "[nltk_data]   Package stopwords is already up-to-date!\n",
            "[nltk_data] Downloading package punkt_tab to /root/nltk_data...\n",
            "[nltk_data]   Package punkt_tab is already up-to-date!\n",
            "[nltk_data] Downloading package wordnet to /root/nltk_data...\n",
            "[nltk_data]   Package wordnet is already up-to-date!\n"
          ]
        }
      ],
      "source": [
        "from keras.datasets import imdb\n",
        "import tensorflow as tf\n",
        "from tensorflow import keras\n",
        "from tensorflow.keras import layers\n",
        "from tensorflow.keras.preprocessing.text import Tokenizer,text_to_word_sequence\n",
        "from tensorflow.keras.preprocessing.sequence import pad_sequences\n",
        "from tensorflow.keras.models import Sequential\n",
        "from tensorflow.keras.layers import Dense,Flatten,Embedding\n",
        "from tensorflow.keras import metrics\n",
        "from tensorflow.keras.utils import plot_model\n",
        "from tensorflow.keras.optimizers import SGD,RMSprop,Adam\n",
        "from tensorflow.keras import regularizers\n",
        "\n",
        "from sklearn.feature_extraction.text import CountVectorizer,TfidfVectorizer\n",
        "\n",
        "import nltk\n",
        "import numpy as np\n",
        "from matplotlib import pyplot as plt\n",
        "from nltk.corpus import stopwords\n",
        "nltk.download('stopwords')\n",
        "nltk.download('punkt_tab')\n",
        "from nltk.tokenize import word_tokenize\n",
        "from nltk.tokenize import sent_tokenize\n",
        "\n",
        "from nltk.stem.porter import PorterStemmer\n",
        "from nltk.stem import WordNetLemmatizer\n",
        "nltk.download('wordnet')\n",
        "from nltk.corpus import wordnet\n",
        "\n",
        "import unicodedata\n",
        "import re\n",
        "import re\n",
        "import string\n",
        "import html\n",
        "\n",
        "from sklearn.model_selection import train_test_split\n",
        "\n",
        "stop_words = set(stopwords.words('english'))\n",
        "#print(stop_words)\n",
        "\n"
      ]
    },
    {
      "cell_type": "markdown",
      "source": [
        "### Load movie dataset"
      ],
      "metadata": {
        "id": "ECZ6empyigJB"
      }
    },
    {
      "cell_type": "code",
      "source": [
        "from pathlib import Path\n",
        "import os\n",
        "DATA_PATH=Path('./dat/')\n",
        "DATA_PATH.mkdir(exist_ok=True)\n",
        "if not os.path.exists('./dat/aclImdb'):\n",
        "    !curl -O http://ai.stanford.edu/~amaas/data/sentiment/aclImdb_v1.tar.gz\n",
        "    !tar -xf aclImdb_v1.tar.gz -C {DATA_PATH}"
      ],
      "metadata": {
        "colab": {
          "base_uri": "https://localhost:8080/"
        },
        "id": "iYo2pVnRjxrq",
        "outputId": "6c261549-c1a5-417f-d1c0-27579d79e80c"
      },
      "execution_count": 2,
      "outputs": [
        {
          "output_type": "stream",
          "name": "stdout",
          "text": [
            "  % Total    % Received % Xferd  Average Speed   Time    Time     Time  Current\n",
            "                                 Dload  Upload   Total   Spent    Left  Speed\n",
            "100 80.2M  100 80.2M    0     0  16.3M      0  0:00:04  0:00:04 --:--:-- 16.3M\n"
          ]
        }
      ]
    },
    {
      "cell_type": "markdown",
      "source": [
        "Let's have a look on the raw data:"
      ],
      "metadata": {
        "id": "L8rf0CrOml4h"
      }
    },
    {
      "cell_type": "code",
      "source": [
        "classes = ['pos', 'neg']\n",
        "path =Path('./dat/aclImdb/')\n",
        "\n",
        "def get_texts(path):\n",
        "    texts ,labels =[],[]\n",
        "    for idx,label in enumerate(classes):\n",
        "        data_path = os.path.join(path,label)\n",
        "        for fname in (path/label).glob('*.txt'):\n",
        "            texts.append(fname.open('r', encoding='utf-8').read())\n",
        "            labels.append(idx)\n",
        "\n",
        "    return texts,labels\n",
        "\n",
        "\n",
        "trn_texts,trn_labels = get_texts(path/'train')\n",
        "tst_texts,tst_labels = get_texts(path/'test')\n",
        "\n",
        "\n"
      ],
      "metadata": {
        "id": "KbqRSBmGmJMT"
      },
      "execution_count": 3,
      "outputs": []
    },
    {
      "cell_type": "code",
      "source": [
        "trn_texts[0]"
      ],
      "metadata": {
        "colab": {
          "base_uri": "https://localhost:8080/",
          "height": 144
        },
        "id": "-_qCgkGFoasy",
        "outputId": "c30cf40b-0d9a-4795-fe51-e46c9e537b4b"
      },
      "execution_count": 4,
      "outputs": [
        {
          "output_type": "execute_result",
          "data": {
            "text/plain": [
              "\"The Night Listener held my attention, with Robin Williams shining as a New York City radio host who becomes enamored with his friendship with a 14 year old boy (Rory Culkin) who is very ill. Williams has never met the boy in person, as they have only been in contact by talking on the telephone. However, Williams' ex-boyfriend (nice job from Bobby Cannavale) raises doubt about the boy, which prompts Williams to arrange a meeting with him in person. What follows makes a permanent impact on Williams in a way he does not expect. I will leave it at that. Toni Collette also stars.<br /><br />I enjoyed this film, with Toni Collette giving a memorable portrayal of Culkin's adoptive mother. Sandra Oh also starred as Williams' friend. The Night Listener is inspired by actual events, and it has a somber, almost creepy silence throughout. At times it is predictable, no thanks to some of the reviews I read before seeing the movie and just due to logic, but I liked it anyway. I enjoy Williams in roles like this, more so than his comedic characters so that was an added bonus for me. Recommended. 8/10\""
            ],
            "application/vnd.google.colaboratory.intrinsic+json": {
              "type": "string"
            }
          },
          "metadata": {},
          "execution_count": 4
        }
      ]
    },
    {
      "cell_type": "code",
      "source": [
        "np.unique(trn_labels)"
      ],
      "metadata": {
        "colab": {
          "base_uri": "https://localhost:8080/"
        },
        "id": "IQsHU2onoiQx",
        "outputId": "4d4fd2f3-3699-4f10-9ac6-4f897177ee1f"
      },
      "execution_count": 5,
      "outputs": [
        {
          "output_type": "execute_result",
          "data": {
            "text/plain": [
              "array([0, 1])"
            ]
          },
          "metadata": {},
          "execution_count": 5
        }
      ]
    },
    {
      "cell_type": "markdown",
      "source": [
        "### Text_Preprocessing"
      ],
      "metadata": {
        "id": "SB9Mj1fAo7Py"
      }
    },
    {
      "cell_type": "code",
      "source": [
        "def remove_special_chars(text):\n",
        "    re1 = re.compile(r'  +')\n",
        "    x1 = text.lower().replace('#39;', \"'\").replace('amp;', '&').replace('#146;', \"'\").replace(\n",
        "        'nbsp;', ' ').replace('#36;', '$').replace('\\\\n', \"\\n\").replace('quot;', \"'\").replace(\n",
        "        '<br />', \"\\n\").replace('\\\\\"', '\"').replace('<unk>', 'u_n').replace(' @.@ ', '.').replace(\n",
        "        ' @-@ ', '-').replace('\\\\', ' \\\\ ')\n",
        "    return re1.sub(' ', html.unescape(x1))\n",
        "\n",
        "\n",
        "def remove_non_ascii(text):\n",
        "    \"\"\"Remove non-ASCII characters from list of tokenized words\"\"\"\n",
        "    return unicodedata.normalize('NFKD', text).encode('ascii', 'ignore').decode('utf-8', 'ignore')\n",
        "\n",
        "\n",
        "def to_lowercase(text):\n",
        "    return text.lower()\n",
        "\n",
        "\n",
        "\n",
        "def remove_punctuation(text):\n",
        "    \"\"\"Remove punctuation from list of tokenized words\"\"\"\n",
        "    translator = str.maketrans('', '', string.punctuation)\n",
        "    return text.translate(translator)\n",
        "\n",
        "\n",
        "def replace_numbers(text):\n",
        "    \"\"\"Replace all interger occurrences in list of tokenized words with textual representation\"\"\"\n",
        "    return re.sub(r'\\d+', '', text)\n",
        "\n",
        "\n",
        "def remove_whitespaces(text):\n",
        "    return text.strip()\n",
        "\n",
        "\n",
        "def remove_stopwords(words, stop_words):\n",
        "    \"\"\"\n",
        "    :param words:\n",
        "    :type words:\n",
        "    :param stop_words: from sklearn.feature_extraction.stop_words import ENGLISH_STOP_WORDS\n",
        "    or\n",
        "    from spacy.lang.en.stop_words import STOP_WORDS\n",
        "    :type stop_words:\n",
        "    :return:\n",
        "    :rtype:\n",
        "    \"\"\"\n",
        "    return [word for word in words if word not in stop_words]\n",
        "\n",
        "\n",
        "def stem_words(words):\n",
        "    \"\"\"Stem words in text\"\"\"\n",
        "    stemmer = PorterStemmer()\n",
        "    return [stemmer.stem(word) for word in words]\n",
        "\n",
        "def lemmatize_words(words):\n",
        "    \"\"\"Lemmatize words in text\"\"\"\n",
        "\n",
        "    lemmatizer = WordNetLemmatizer()\n",
        "    return [lemmatizer.lemmatize(word) for word in words]\n",
        "\n",
        "def lemmatize_verbs(words):\n",
        "    \"\"\"Lemmatize verbs in text\"\"\"\n",
        "\n",
        "    lemmatizer = WordNetLemmatizer()\n",
        "    return ' '.join([lemmatizer.lemmatize(word, pos='v') for word in words])\n",
        "\n",
        "def text2words(text):\n",
        "  return word_tokenize(text)\n",
        "\n",
        "def normalize_text( text):\n",
        "    text = remove_special_chars(text)\n",
        "    text = remove_non_ascii(text)\n",
        "    text = remove_punctuation(text)\n",
        "    text = to_lowercase(text)\n",
        "    text = replace_numbers(text)\n",
        "    words = text2words(text)\n",
        "    words = remove_stopwords(words, stop_words)\n",
        "    #words = stem_words(words)# Either stem ovocar lemmatize\n",
        "    words = lemmatize_words(words)\n",
        "    words = lemmatize_verbs(words)\n",
        "\n",
        "    return ''.join(words)\n",
        "\n",
        "\n",
        "def normalize_corpus(corpus):\n",
        "  return [normalize_text(t) for t in corpus]"
      ],
      "metadata": {
        "id": "QuPaXNT8os42"
      },
      "execution_count": 6,
      "outputs": []
    },
    {
      "cell_type": "code",
      "source": [
        "trn_texts = normalize_corpus(trn_texts)\n",
        "tst_texts = normalize_corpus(tst_texts)"
      ],
      "metadata": {
        "id": "oQeKcCsjsc4Q"
      },
      "execution_count": 7,
      "outputs": []
    },
    {
      "cell_type": "markdown",
      "source": [
        "### Text preparation"
      ],
      "metadata": {
        "id": "7i4PFFsntr0m"
      }
    },
    {
      "cell_type": "code",
      "source": [
        "vocab_sz = 10000\n",
        "# split text into tokens and build vocav\n",
        "tok = Tokenizer(num_words=vocab_sz,oov_token='UNK')\n",
        "tok.fit_on_texts(trn_texts+tst_texts)\n",
        "\n",
        "tok.word_index\n"
      ],
      "metadata": {
        "colab": {
          "base_uri": "https://localhost:8080/"
        },
        "id": "raYoWVxGtccR",
        "outputId": "aad1a7c6-f75a-4db5-83db-6328693531ca"
      },
      "execution_count": 8,
      "outputs": [
        {
          "output_type": "execute_result",
          "data": {
            "text/plain": [
              "{'UNK': 1,\n",
              " 'movie': 2,\n",
              " 'film': 3,\n",
              " 'one': 4,\n",
              " 'make': 5,\n",
              " 'like': 6,\n",
              " 'see': 7,\n",
              " 'get': 8,\n",
              " 'time': 9,\n",
              " 'good': 10,\n",
              " 'character': 11,\n",
              " 'watch': 12,\n",
              " 'go': 13,\n",
              " 'even': 14,\n",
              " 'story': 15,\n",
              " 'think': 16,\n",
              " 'would': 17,\n",
              " 'really': 18,\n",
              " 'show': 19,\n",
              " 'scene': 20,\n",
              " 'well': 21,\n",
              " 'look': 22,\n",
              " 'say': 23,\n",
              " 'much': 24,\n",
              " 'know': 25,\n",
              " 'end': 26,\n",
              " 'people': 27,\n",
              " 'great': 28,\n",
              " 'bad': 29,\n",
              " 'also': 30,\n",
              " 'give': 31,\n",
              " 'first': 32,\n",
              " 'take': 33,\n",
              " 'act': 34,\n",
              " 'play': 35,\n",
              " 'love': 36,\n",
              " 'way': 37,\n",
              " 'dont': 38,\n",
              " 'come': 39,\n",
              " 'thing': 40,\n",
              " 'find': 41,\n",
              " 'could': 42,\n",
              " 'life': 43,\n",
              " 'seem': 44,\n",
              " 'work': 45,\n",
              " 'many': 46,\n",
              " 'plot': 47,\n",
              " 'actor': 48,\n",
              " 'want': 49,\n",
              " 'two': 50,\n",
              " 'never': 51,\n",
              " 'year': 52,\n",
              " 'try': 53,\n",
              " 'best': 54,\n",
              " 'little': 55,\n",
              " 'ever': 56,\n",
              " 'better': 57,\n",
              " 'man': 58,\n",
              " 'still': 59,\n",
              " 'feel': 60,\n",
              " 'part': 61,\n",
              " 'something': 62,\n",
              " 'lot': 63,\n",
              " 'back': 64,\n",
              " 'interest': 65,\n",
              " 'im': 66,\n",
              " 'director': 67,\n",
              " 'real': 68,\n",
              " 'guy': 69,\n",
              " 'performance': 70,\n",
              " 'doesnt': 71,\n",
              " 'use': 72,\n",
              " 'didnt': 73,\n",
              " 'woman': 74,\n",
              " 'though': 75,\n",
              " 'funny': 76,\n",
              " 'cast': 77,\n",
              " 'another': 78,\n",
              " 'actually': 79,\n",
              " 'nothing': 80,\n",
              " 'role': 81,\n",
              " 'tell': 82,\n",
              " 'u': 83,\n",
              " 'start': 84,\n",
              " 'star': 85,\n",
              " 'new': 86,\n",
              " 'every': 87,\n",
              " 'shoot': 88,\n",
              " 'old': 89,\n",
              " 'write': 90,\n",
              " 'point': 91,\n",
              " 'set': 92,\n",
              " 'girl': 93,\n",
              " 'become': 94,\n",
              " 'cant': 95,\n",
              " 'world': 96,\n",
              " 'turn': 97,\n",
              " 'day': 98,\n",
              " 'thats': 99,\n",
              " 'minute': 100,\n",
              " 'kill': 101,\n",
              " 'fact': 102,\n",
              " 'quite': 103,\n",
              " 'pretty': 104,\n",
              " 'leave': 105,\n",
              " 'happen': 106,\n",
              " 'around': 107,\n",
              " 'comedy': 108,\n",
              " 'bite': 109,\n",
              " 'young': 110,\n",
              " 'horror': 111,\n",
              " 'mean': 112,\n",
              " 'however': 113,\n",
              " 'enough': 114,\n",
              " 'right': 115,\n",
              " 'big': 116,\n",
              " 'action': 117,\n",
              " 'ive': 118,\n",
              " 'fan': 119,\n",
              " 'may': 120,\n",
              " 'long': 121,\n",
              " 'keep': 122,\n",
              " 'need': 123,\n",
              " 'line': 124,\n",
              " 'enjoy': 125,\n",
              " 'friend': 126,\n",
              " 'script': 127,\n",
              " 'without': 128,\n",
              " 'original': 129,\n",
              " 'saw': 130,\n",
              " 'music': 131,\n",
              " 'isnt': 132,\n",
              " 'begin': 133,\n",
              " 'always': 134,\n",
              " 'series': 135,\n",
              " 'family': 136,\n",
              " 'almost': 137,\n",
              " 'put': 138,\n",
              " 'must': 139,\n",
              " 'kid': 140,\n",
              " 'there': 141,\n",
              " 'whole': 142,\n",
              " 'least': 143,\n",
              " 'last': 144,\n",
              " 'do': 145,\n",
              " 'lead': 146,\n",
              " 'laugh': 147,\n",
              " 'place': 148,\n",
              " 'kind': 149,\n",
              " 'far': 150,\n",
              " 'reason': 151,\n",
              " 'might': 152,\n",
              " 'anything': 153,\n",
              " 'he': 154,\n",
              " 'effect': 155,\n",
              " 'since': 156,\n",
              " 'live': 157,\n",
              " 'believe': 158,\n",
              " 'let': 159,\n",
              " 'probably': 160,\n",
              " 'run': 161,\n",
              " 'book': 162,\n",
              " 'name': 163,\n",
              " 'tv': 164,\n",
              " 'call': 165,\n",
              " 'away': 166,\n",
              " 'help': 167,\n",
              " 'moment': 168,\n",
              " 'yet': 169,\n",
              " 'fun': 170,\n",
              " 'worst': 171,\n",
              " 'rather': 172,\n",
              " 'read': 173,\n",
              " 'sure': 174,\n",
              " 'anyone': 175,\n",
              " 'screen': 176,\n",
              " 'audience': 177,\n",
              " 'idea': 178,\n",
              " 'expect': 179,\n",
              " 'bore': 180,\n",
              " 'child': 181,\n",
              " 'dvd': 182,\n",
              " 'although': 183,\n",
              " 'episode': 184,\n",
              " 'course': 185,\n",
              " 'american': 186,\n",
              " 'especially': 187,\n",
              " 'bring': 188,\n",
              " 'hard': 189,\n",
              " 'job': 190,\n",
              " 'war': 191,\n",
              " 'everything': 192,\n",
              " 'move': 193,\n",
              " 'worth': 194,\n",
              " 'different': 195,\n",
              " 'someone': 196,\n",
              " 'maybe': 197,\n",
              " 'main': 198,\n",
              " 'sense': 199,\n",
              " 'sound': 200,\n",
              " 'problem': 201,\n",
              " 'wasnt': 202,\n",
              " 'three': 203,\n",
              " 'version': 204,\n",
              " 'recommend': 205,\n",
              " 'money': 206,\n",
              " 'true': 207,\n",
              " 'lose': 208,\n",
              " 'together': 209,\n",
              " 'understand': 210,\n",
              " 'night': 211,\n",
              " 'waste': 212,\n",
              " 'second': 213,\n",
              " 'follow': 214,\n",
              " 'direct': 215,\n",
              " 'view': 216,\n",
              " 'instead': 217,\n",
              " 'boy': 218,\n",
              " 'everyone': 219,\n",
              " 'face': 220,\n",
              " 'later': 221,\n",
              " 'special': 222,\n",
              " 'hear': 223,\n",
              " 'mind': 224,\n",
              " 'death': 225,\n",
              " 'john': 226,\n",
              " 'beautiful': 227,\n",
              " 'fall': 228,\n",
              " 'talk': 229,\n",
              " 'miss': 230,\n",
              " 'black': 231,\n",
              " 'house': 232,\n",
              " 'wife': 233,\n",
              " 'hour': 234,\n",
              " 'excellent': 235,\n",
              " 'open': 236,\n",
              " 'short': 237,\n",
              " 'classic': 238,\n",
              " 'remember': 239,\n",
              " 'fight': 240,\n",
              " 'surprise': 241,\n",
              " 'change': 242,\n",
              " 'viewer': 243,\n",
              " 'head': 244,\n",
              " 'include': 245,\n",
              " 'high': 246,\n",
              " 'father': 247,\n",
              " 'piece': 248,\n",
              " 'simply': 249,\n",
              " 'appear': 250,\n",
              " 'eye': 251,\n",
              " 'else': 252,\n",
              " 'youre': 253,\n",
              " 'completely': 254,\n",
              " 'production': 255,\n",
              " 'nice': 256,\n",
              " 'attempt': 257,\n",
              " 'poor': 258,\n",
              " 'couple': 259,\n",
              " 'picture': 260,\n",
              " 'release': 261,\n",
              " 'entertain': 262,\n",
              " 'home': 263,\n",
              " 'care': 264,\n",
              " 'along': 265,\n",
              " 'involve': 266,\n",
              " 'men': 267,\n",
              " 'meet': 268,\n",
              " 'suppose': 269,\n",
              " 'feature': 270,\n",
              " 'human': 271,\n",
              " 'song': 272,\n",
              " 'lack': 273,\n",
              " 'either': 274,\n",
              " 'word': 275,\n",
              " 'add': 276,\n",
              " 'wrong': 277,\n",
              " 'hollywood': 278,\n",
              " 'hand': 279,\n",
              " 'less': 280,\n",
              " 'rest': 281,\n",
              " 'half': 282,\n",
              " 'camera': 283,\n",
              " 'title': 284,\n",
              " 'decide': 285,\n",
              " 'school': 286,\n",
              " 'dead': 287,\n",
              " 'truly': 288,\n",
              " 'next': 289,\n",
              " 'stupid': 290,\n",
              " 'video': 291,\n",
              " 'hope': 292,\n",
              " 'save': 293,\n",
              " 'game': 294,\n",
              " 'murder': 295,\n",
              " 'person': 296,\n",
              " 'review': 297,\n",
              " 'others': 298,\n",
              " 'awful': 299,\n",
              " 'top': 300,\n",
              " 'sort': 301,\n",
              " 'terrible': 302,\n",
              " 'full': 303,\n",
              " 'mr': 304,\n",
              " 'sex': 305,\n",
              " 'case': 306,\n",
              " 'budget': 307,\n",
              " 'dialogue': 308,\n",
              " 'wonder': 309,\n",
              " 'perhaps': 310,\n",
              " 'create': 311,\n",
              " 'joke': 312,\n",
              " 'die': 313,\n",
              " 'wonderful': 314,\n",
              " 'mother': 315,\n",
              " 'flick': 316,\n",
              " 'guess': 317,\n",
              " 'rat': 318,\n",
              " 'base': 319,\n",
              " 'perfect': 320,\n",
              " 'comment': 321,\n",
              " 'style': 322,\n",
              " 'experience': 323,\n",
              " 'sequence': 324,\n",
              " 'definitely': 325,\n",
              " 'sit': 326,\n",
              " 'often': 327,\n",
              " 'small': 328,\n",
              " 'couldnt': 329,\n",
              " 'early': 330,\n",
              " 'consider': 331,\n",
              " 'example': 332,\n",
              " 'mention': 333,\n",
              " 'force': 334,\n",
              " 'absolutely': 335,\n",
              " 'finally': 336,\n",
              " 'brother': 337,\n",
              " 'cinema': 338,\n",
              " 'killer': 339,\n",
              " 'certainly': 340,\n",
              " 'light': 341,\n",
              " 'amaze': 342,\n",
              " 'quality': 343,\n",
              " 'drama': 344,\n",
              " 'worse': 345,\n",
              " 'ask': 346,\n",
              " 'actress': 347,\n",
              " 'yes': 348,\n",
              " 'car': 349,\n",
              " 'buy': 350,\n",
              " 'disappoint': 351,\n",
              " 'stop': 352,\n",
              " 'felt': 353,\n",
              " 'fail': 354,\n",
              " 'deal': 355,\n",
              " 'entire': 356,\n",
              " 'overall': 357,\n",
              " 'matter': 358,\n",
              " 'age': 359,\n",
              " 'art': 360,\n",
              " 'several': 361,\n",
              " 'spend': 362,\n",
              " 'stand': 363,\n",
              " 'direction': 364,\n",
              " 'writer': 365,\n",
              " 'side': 366,\n",
              " 'cut': 367,\n",
              " 'break': 368,\n",
              " 'learn': 369,\n",
              " 'favorite': 370,\n",
              " 'son': 371,\n",
              " 'oh': 372,\n",
              " 'totally': 373,\n",
              " 'close': 374,\n",
              " 'shes': 375,\n",
              " 'hold': 376,\n",
              " 'dark': 377,\n",
              " 'humor': 378,\n",
              " 'wait': 379,\n",
              " 'id': 380,\n",
              " 'forget': 381,\n",
              " 'evil': 382,\n",
              " 'white': 383,\n",
              " 'final': 384,\n",
              " 'throughout': 385,\n",
              " 'hit': 386,\n",
              " 'despite': 387,\n",
              " 'already': 388,\n",
              " 'wont': 389,\n",
              " 'speak': 390,\n",
              " 'low': 391,\n",
              " 'youll': 392,\n",
              " 'relationship': 393,\n",
              " 'manage': 394,\n",
              " 'walk': 395,\n",
              " 'voice': 396,\n",
              " 'unfortunately': 397,\n",
              " 'type': 398,\n",
              " 'support': 399,\n",
              " 'able': 400,\n",
              " 'hero': 401,\n",
              " 'number': 402,\n",
              " 'history': 403,\n",
              " 'heart': 404,\n",
              " 'today': 405,\n",
              " 'dance': 406,\n",
              " 'michael': 407,\n",
              " 'throw': 408,\n",
              " 'portray': 409,\n",
              " 'wish': 410,\n",
              " 'fine': 411,\n",
              " 'stuff': 412,\n",
              " 'credit': 413,\n",
              " 'rent': 414,\n",
              " 'genre': 415,\n",
              " 'horrible': 416,\n",
              " 'group': 417,\n",
              " 'town': 418,\n",
              " 'twist': 419,\n",
              " 'daughter': 420,\n",
              " 'present': 421,\n",
              " 'theyre': 422,\n",
              " 'pay': 423,\n",
              " 'city': 424,\n",
              " 'score': 425,\n",
              " 'stay': 426,\n",
              " 'power': 427,\n",
              " 'question': 428,\n",
              " 'past': 429,\n",
              " 'deserve': 430,\n",
              " 'touch': 431,\n",
              " 'realize': 432,\n",
              " 'talent': 433,\n",
              " 'theme': 434,\n",
              " 'event': 435,\n",
              " 'please': 436,\n",
              " 'brilliant': 437,\n",
              " 'robert': 438,\n",
              " 'god': 439,\n",
              " 'behind': 440,\n",
              " 'situation': 441,\n",
              " 'chance': 442,\n",
              " 'catch': 443,\n",
              " 'obviously': 444,\n",
              " 'order': 445,\n",
              " 'annoy': 446,\n",
              " 'return': 447,\n",
              " 'body': 448,\n",
              " 'sometimes': 449,\n",
              " 'soon': 450,\n",
              " 'level': 451,\n",
              " 'etc': 452,\n",
              " 'complete': 453,\n",
              " 'hell': 454,\n",
              " 'late': 455,\n",
              " 'ill': 456,\n",
              " 'build': 457,\n",
              " 'decent': 458,\n",
              " 'highly': 459,\n",
              " 'figure': 460,\n",
              " 'element': 461,\n",
              " 'except': 462,\n",
              " 'blood': 463,\n",
              " 'grow': 464,\n",
              " 'anyway': 465,\n",
              " 'edit': 466,\n",
              " 'jam': 467,\n",
              " 'career': 468,\n",
              " 'country': 469,\n",
              " 'novel': 470,\n",
              " 'extremely': 471,\n",
              " 'pick': 472,\n",
              " 'monster': 473,\n",
              " 'police': 474,\n",
              " 'wouldnt': 475,\n",
              " 'drive': 476,\n",
              " 'documentary': 477,\n",
              " 'offer': 478,\n",
              " 'effort': 479,\n",
              " 'cause': 480,\n",
              " 'hilarious': 481,\n",
              " 'reality': 482,\n",
              " 'ok': 483,\n",
              " 'strong': 484,\n",
              " 'pace': 485,\n",
              " 'slow': 486,\n",
              " 'deliver': 487,\n",
              " 'violence': 488,\n",
              " 'state': 489,\n",
              " 'david': 490,\n",
              " 'particularly': 491,\n",
              " 'opinion': 492,\n",
              " 'husband': 493,\n",
              " 'result': 494,\n",
              " 'obvious': 495,\n",
              " 'dream': 496,\n",
              " 'cool': 497,\n",
              " 'serious': 498,\n",
              " 'simple': 499,\n",
              " 'musical': 500,\n",
              " 'provide': 501,\n",
              " 'theater': 502,\n",
              " 'sequel': 503,\n",
              " 'explain': 504,\n",
              " 'crap': 505,\n",
              " 'lady': 506,\n",
              " 'ago': 507,\n",
              " 'sister': 508,\n",
              " 'allow': 509,\n",
              " 'female': 510,\n",
              " 'value': 511,\n",
              " 'sing': 512,\n",
              " 'across': 513,\n",
              " 'exactly': 514,\n",
              " 'room': 515,\n",
              " 'seriously': 516,\n",
              " 'compare': 517,\n",
              " 'possible': 518,\n",
              " 'check': 519,\n",
              " 'cop': 520,\n",
              " 'usually': 521,\n",
              " 'alone': 522,\n",
              " 'draw': 523,\n",
              " 'none': 524,\n",
              " 'note': 525,\n",
              " 'sad': 526,\n",
              " 'dialog': 527,\n",
              " 'dog': 528,\n",
              " 'english': 529,\n",
              " 'huge': 530,\n",
              " 'spoiler': 531,\n",
              " 'cinematography': 532,\n",
              " 'convince': 533,\n",
              " 'zombie': 534,\n",
              " 'gore': 535,\n",
              " 'filmmaker': 536,\n",
              " 'stick': 537,\n",
              " 'shock': 538,\n",
              " 'major': 539,\n",
              " 'subject': 540,\n",
              " 'team': 541,\n",
              " 'whose': 542,\n",
              " 'local': 543,\n",
              " 'focus': 544,\n",
              " 'avoid': 545,\n",
              " 'ridiculous': 546,\n",
              " 'season': 547,\n",
              " 'steal': 548,\n",
              " 'message': 549,\n",
              " 'pull': 550,\n",
              " 'cover': 551,\n",
              " 'usual': 552,\n",
              " 'beyond': 553,\n",
              " 'mostly': 554,\n",
              " 'important': 555,\n",
              " 'somewhat': 556,\n",
              " 'rock': 557,\n",
              " 'silly': 558,\n",
              " 'thriller': 559,\n",
              " 'jack': 560,\n",
              " 'form': 561,\n",
              " 'attention': 562,\n",
              " 'tale': 563,\n",
              " 'scary': 564,\n",
              " 'apparently': 565,\n",
              " 'parent': 566,\n",
              " 'detail': 567,\n",
              " 'comic': 568,\n",
              " 'due': 569,\n",
              " 'basically': 570,\n",
              " 'strange': 571,\n",
              " 'hate': 572,\n",
              " 'four': 573,\n",
              " 'king': 574,\n",
              " 'escape': 575,\n",
              " 'image': 576,\n",
              " 'television': 577,\n",
              " 'happy': 578,\n",
              " 'produce': 579,\n",
              " 'street': 580,\n",
              " 'single': 581,\n",
              " 'upon': 582,\n",
              " 'charm': 583,\n",
              " 'train': 584,\n",
              " 'producer': 585,\n",
              " 'member': 586,\n",
              " 'clearly': 587,\n",
              " 'remain': 588,\n",
              " 'win': 589,\n",
              " 'cheap': 590,\n",
              " 'thank': 591,\n",
              " 'whats': 592,\n",
              " 'imagine': 593,\n",
              " 'george': 594,\n",
              " 'arent': 595,\n",
              " 'fit': 596,\n",
              " 'discover': 597,\n",
              " 'doubt': 598,\n",
              " 'marry': 599,\n",
              " 'plan': 600,\n",
              " 'british': 601,\n",
              " 'fill': 602,\n",
              " 'capture': 603,\n",
              " 'soundtrack': 604,\n",
              " 'space': 605,\n",
              " 'modern': 606,\n",
              " 'earth': 607,\n",
              " 'wear': 608,\n",
              " 'ten': 609,\n",
              " 'crime': 610,\n",
              " 'whether': 611,\n",
              " 'drug': 612,\n",
              " 'predictable': 613,\n",
              " 'entertainment': 614,\n",
              " 'class': 615,\n",
              " 'remind': 616,\n",
              " 'future': 617,\n",
              " 'western': 618,\n",
              " 'gun': 619,\n",
              " 'french': 620,\n",
              " 'fire': 621,\n",
              " 'clear': 622,\n",
              " 'easily': 623,\n",
              " 'peter': 624,\n",
              " 'villain': 625,\n",
              " 'storyline': 626,\n",
              " 'date': 627,\n",
              " 'havent': 628,\n",
              " 'enjoyable': 629,\n",
              " 'mystery': 630,\n",
              " 'carry': 631,\n",
              " 'mark': 632,\n",
              " 'aspect': 633,\n",
              " 'similar': 634,\n",
              " 'develop': 635,\n",
              " 'romantic': 636,\n",
              " 'air': 637,\n",
              " 'send': 638,\n",
              " 'bunch': 639,\n",
              " 'copy': 640,\n",
              " 'confuse': 641,\n",
              " 'battle': 642,\n",
              " 'adult': 643,\n",
              " 'within': 644,\n",
              " 'five': 645,\n",
              " 'soldier': 646,\n",
              " 'chase': 647,\n",
              " 'certain': 648,\n",
              " 'agree': 649,\n",
              " 'middle': 650,\n",
              " 'dull': 651,\n",
              " 'emotion': 652,\n",
              " 'cliche': 653,\n",
              " 'oscar': 654,\n",
              " 'attack': 655,\n",
              " 'doctor': 656,\n",
              " 'among': 657,\n",
              " 'sorry': 658,\n",
              " 'near': 659,\n",
              " 'choose': 660,\n",
              " 'easy': 661,\n",
              " 'suck': 662,\n",
              " 'general': 663,\n",
              " 'typical': 664,\n",
              " 'victim': 665,\n",
              " 'period': 666,\n",
              " 'box': 667,\n",
              " 'bill': 668,\n",
              " 'material': 669,\n",
              " 'remake': 670,\n",
              " 'standard': 671,\n",
              " 'reveal': 672,\n",
              " 'finish': 673,\n",
              " 'student': 674,\n",
              " 'mess': 675,\n",
              " 'greatest': 676,\n",
              " 'match': 677,\n",
              " 'nearly': 678,\n",
              " 'trouble': 679,\n",
              " 'suspense': 680,\n",
              " 'notice': 681,\n",
              " 'fantastic': 682,\n",
              " 'issue': 683,\n",
              " 'actual': 684,\n",
              " 'continue': 685,\n",
              " 'bear': 686,\n",
              " 'cartoon': 687,\n",
              " 'water': 688,\n",
              " 'dr': 689,\n",
              " 'animation': 690,\n",
              " 'straight': 691,\n",
              " 'richard': 692,\n",
              " 'cry': 693,\n",
              " 'realistic': 694,\n",
              " 'premise': 695,\n",
              " 'famous': 696,\n",
              " 'contain': 697,\n",
              " 'okay': 698,\n",
              " 'suffer': 699,\n",
              " 'describe': 700,\n",
              " 'youve': 701,\n",
              " 'hide': 702,\n",
              " 'list': 703,\n",
              " 'paul': 704,\n",
              " 'th': 705,\n",
              " 'believable': 706,\n",
              " 'somehow': 707,\n",
              " 'excite': 708,\n",
              " 'truth': 709,\n",
              " 'romance': 710,\n",
              " 'tom': 711,\n",
              " 'bother': 712,\n",
              " 'america': 713,\n",
              " 'alien': 714,\n",
              " 'masterpiece': 715,\n",
              " 'fly': 716,\n",
              " 'eat': 717,\n",
              " 'appreciate': 718,\n",
              " 'beat': 719,\n",
              " 'background': 720,\n",
              " 'blow': 721,\n",
              " 'mix': 722,\n",
              " 'atmosphere': 723,\n",
              " 'york': 724,\n",
              " 'eventually': 725,\n",
              " 'admit': 726,\n",
              " 'particular': 727,\n",
              " 'society': 728,\n",
              " 'weak': 729,\n",
              " 'who': 730,\n",
              " 'red': 731,\n",
              " 'party': 732,\n",
              " 'treat': 733,\n",
              " 'vampire': 734,\n",
              " 'leaf': 735,\n",
              " 'indeed': 736,\n",
              " 'fast': 737,\n",
              " 'shame': 738,\n",
              " 'warn': 739,\n",
              " 'male': 740,\n",
              " 'crew': 741,\n",
              " 'german': 742,\n",
              " 'lie': 743,\n",
              " 'choice': 744,\n",
              " 'average': 745,\n",
              " 'studio': 746,\n",
              " 'appeal': 747,\n",
              " 'mistake': 748,\n",
              " 'baby': 749,\n",
              " 'deep': 750,\n",
              " 'lame': 751,\n",
              " 'difficult': 752,\n",
              " 'secret': 753,\n",
              " 'stage': 754,\n",
              " 'whatever': 755,\n",
              " 'b': 756,\n",
              " 'drink': 757,\n",
              " 'accent': 758,\n",
              " 'beauty': 759,\n",
              " 'gay': 760,\n",
              " 'screenplay': 761,\n",
              " 'footage': 762,\n",
              " 'fear': 763,\n",
              " 'poorly': 764,\n",
              " 'third': 765,\n",
              " 'island': 766,\n",
              " 'possibly': 767,\n",
              " 'emotional': 768,\n",
              " 'de': 769,\n",
              " 'wood': 770,\n",
              " 'lee': 771,\n",
              " 'memorable': 772,\n",
              " 'suggest': 773,\n",
              " 'free': 774,\n",
              " 'struggle': 775,\n",
              " 'rise': 776,\n",
              " 'flaw': 777,\n",
              " 'nature': 778,\n",
              " 'scifi': 779,\n",
              " 'otherwise': 780,\n",
              " 'unless': 781,\n",
              " 'week': 782,\n",
              " 'project': 783,\n",
              " 'spirit': 784,\n",
              " 'sexual': 785,\n",
              " 'imdb': 786,\n",
              " 'la': 787,\n",
              " 'superb': 788,\n",
              " 'location': 789,\n",
              " 'costume': 790,\n",
              " 'previous': 791,\n",
              " 'inside': 792,\n",
              " 'cheesy': 793,\n",
              " 'plus': 794,\n",
              " 'hot': 795,\n",
              " 'perfectly': 796,\n",
              " 'total': 797,\n",
              " 'animal': 798,\n",
              " 'personal': 799,\n",
              " 'award': 800,\n",
              " 'control': 801,\n",
              " 'scream': 802,\n",
              " 'forward': 803,\n",
              " 'development': 804,\n",
              " 'adventure': 805,\n",
              " 'quickly': 806,\n",
              " 'towards': 807,\n",
              " 'weird': 808,\n",
              " 'girlfriend': 809,\n",
              " 'incredibly': 810,\n",
              " 'crazy': 811,\n",
              " 'lover': 812,\n",
              " 'master': 813,\n",
              " 'japanese': 814,\n",
              " 'earlier': 815,\n",
              " 'company': 816,\n",
              " 'badly': 817,\n",
              " 'land': 818,\n",
              " 'amount': 819,\n",
              " 'front': 820,\n",
              " 'unique': 821,\n",
              " 'respect': 822,\n",
              " 'disney': 823,\n",
              " 'business': 824,\n",
              " 'answer': 825,\n",
              " 'promise': 826,\n",
              " 'older': 827,\n",
              " 'various': 828,\n",
              " 'term': 829,\n",
              " 'rich': 830,\n",
              " 'track': 831,\n",
              " 'success': 832,\n",
              " 'plenty': 833,\n",
              " 'powerful': 834,\n",
              " 'amuse': 835,\n",
              " 'fantasy': 836,\n",
              " 'jump': 837,\n",
              " 'color': 838,\n",
              " 'fairly': 839,\n",
              " 'memory': 840,\n",
              " 'disturb': 841,\n",
              " 'joe': 842,\n",
              " 'creepy': 843,\n",
              " 'apart': 844,\n",
              " 'tear': 845,\n",
              " 'band': 846,\n",
              " 'dumb': 847,\n",
              " 'dramatic': 848,\n",
              " 'rate': 849,\n",
              " 'outside': 850,\n",
              " 'concern': 851,\n",
              " 'store': 852,\n",
              " 'hop': 853,\n",
              " 'accept': 854,\n",
              " 'portrayal': 855,\n",
              " 'roll': 856,\n",
              " 'cat': 857,\n",
              " 'dress': 858,\n",
              " 'channel': 859,\n",
              " 'prove': 860,\n",
              " 'plain': 861,\n",
              " 'brain': 862,\n",
              " 'exist': 863,\n",
              " 'perform': 864,\n",
              " 'hat': 865,\n",
              " 'political': 866,\n",
              " 'sell': 867,\n",
              " 'italian': 868,\n",
              " 'ability': 869,\n",
              " 'sleep': 870,\n",
              " 'recently': 871,\n",
              " 'william': 872,\n",
              " 'appearance': 873,\n",
              " 'concept': 874,\n",
              " 'listen': 875,\n",
              " 'hardly': 876,\n",
              " 'creature': 877,\n",
              " 'record': 878,\n",
              " 'unlike': 879,\n",
              " 'wind': 880,\n",
              " 'era': 881,\n",
              " 'destroy': 882,\n",
              " 'design': 883,\n",
              " 'share': 884,\n",
              " 'clever': 885,\n",
              " 'large': 886,\n",
              " 'cute': 887,\n",
              " 'public': 888,\n",
              " 'ghost': 889,\n",
              " 'teen': 890,\n",
              " 'potential': 891,\n",
              " 'odd': 892,\n",
              " 'player': 893,\n",
              " 'century': 894,\n",
              " 'talented': 895,\n",
              " 'language': 896,\n",
              " 'tension': 897,\n",
              " 'blue': 898,\n",
              " 'travel': 899,\n",
              " 'introduce': 900,\n",
              " 'kick': 901,\n",
              " 'pure': 902,\n",
              " 'park': 903,\n",
              " 'claim': 904,\n",
              " 'depth': 905,\n",
              " 'camp': 906,\n",
              " 'soul': 907,\n",
              " 'indian': 908,\n",
              " 'burn': 909,\n",
              " 'reach': 910,\n",
              " 'ride': 911,\n",
              " 'search': 912,\n",
              " 'door': 913,\n",
              " 'hole': 914,\n",
              " 'us': 915,\n",
              " 'van': 916,\n",
              " 'nudity': 917,\n",
              " 'incredible': 918,\n",
              " 'office': 919,\n",
              " 'drag': 920,\n",
              " 'culture': 921,\n",
              " 'visual': 922,\n",
              " 'intrigue': 923,\n",
              " 'fake': 924,\n",
              " 'inspire': 925,\n",
              " 'slightly': 926,\n",
              " 'scott': 927,\n",
              " 'approach': 928,\n",
              " 'sadly': 929,\n",
              " 'ruin': 930,\n",
              " 'flat': 931,\n",
              " 'familiar': 932,\n",
              " 'spot': 933,\n",
              " 'taste': 934,\n",
              " 'extra': 935,\n",
              " 'judge': 936,\n",
              " 'tone': 937,\n",
              " 'purpose': 938,\n",
              " 'race': 939,\n",
              " 'entirely': 940,\n",
              " 'popular': 941,\n",
              " 'step': 942,\n",
              " 'neither': 943,\n",
              " 'engage': 944,\n",
              " 'survive': 945,\n",
              " 'gang': 946,\n",
              " 'positive': 947,\n",
              " 'critic': 948,\n",
              " 'ring': 949,\n",
              " 'maker': 950,\n",
              " 'basic': 951,\n",
              " 'sweet': 952,\n",
              " 'million': 953,\n",
              " 'receive': 954,\n",
              " 'trip': 955,\n",
              " 'suddenly': 956,\n",
              " 'college': 957,\n",
              " 'former': 958,\n",
              " 'hang': 959,\n",
              " 'biggest': 960,\n",
              " 'younger': 961,\n",
              " 'adaptation': 962,\n",
              " 'science': 963,\n",
              " 'intelligent': 964,\n",
              " 'common': 965,\n",
              " 'trash': 966,\n",
              " 'hurt': 967,\n",
              " 'torture': 968,\n",
              " 'belief': 969,\n",
              " 'hair': 970,\n",
              " 'genius': 971,\n",
              " 'ship': 972,\n",
              " 'alive': 973,\n",
              " 'suspect': 974,\n",
              " 'relate': 975,\n",
              " 'strike': 976,\n",
              " 'count': 977,\n",
              " 'successful': 978,\n",
              " 'violent': 979,\n",
              " 'conclusion': 980,\n",
              " 'social': 981,\n",
              " 'impress': 982,\n",
              " 'pop': 983,\n",
              " 'longer': 984,\n",
              " 'paint': 985,\n",
              " 'christmas': 986,\n",
              " 'intend': 987,\n",
              " 'cold': 988,\n",
              " 'aside': 989,\n",
              " 'pass': 990,\n",
              " 'mad': 991,\n",
              " 'handle': 992,\n",
              " 'pointless': 993,\n",
              " 'suit': 994,\n",
              " 'teenager': 995,\n",
              " 'ultimately': 996,\n",
              " 'pathetic': 997,\n",
              " 'bizarre': 998,\n",
              " 'bond': 999,\n",
              " 'recent': 1000,\n",
              " ...}"
            ]
          },
          "metadata": {},
          "execution_count": 8
        }
      ]
    },
    {
      "cell_type": "markdown",
      "source": [
        "### Extract binary BoW features"
      ],
      "metadata": {
        "id": "X-KHs60uvAmb"
      }
    },
    {
      "cell_type": "code",
      "source": [
        "x_train = tok.texts_to_matrix(trn_texts,mode='binary')\n",
        "x_test = tok.texts_to_matrix(tst_texts,mode='binary')\n",
        "\n",
        "\n",
        "y_train = np.asarray(trn_labels).astype('float32')\n",
        "y_test = np.asarray(tst_labels).astype('float32')\n",
        "\n",
        "print(x_train.shape)\n",
        "print(y_train.shape)\n",
        "print(x_test.shape)\n",
        "print(y_test.shape)"
      ],
      "metadata": {
        "colab": {
          "base_uri": "https://localhost:8080/"
        },
        "id": "Yw4DViIzvH3P",
        "outputId": "feda7a5c-ccdf-46e3-b099-c206c5d68b43"
      },
      "execution_count": 9,
      "outputs": [
        {
          "output_type": "stream",
          "name": "stdout",
          "text": [
            "(25000, 10000)\n",
            "(25000,)\n",
            "(25000, 10000)\n",
            "(25000,)\n"
          ]
        }
      ]
    },
    {
      "cell_type": "code",
      "source": [
        "# Split train data into train and validation\n",
        "x_train,x_val ,y_train,y_val = train_test_split(x_train,y_train,test_size=0.4,random_state=42)"
      ],
      "metadata": {
        "id": "cbCjhxuqwqkp"
      },
      "execution_count": 10,
      "outputs": []
    },
    {
      "cell_type": "code",
      "source": [
        "model_1 = Sequential()\n",
        "model_1.add(Dense(16,activation='relu',input_shape=(vocab_sz,)))\n",
        "model_1.add(Dense(16,activation='relu'))\n",
        "model_1.add(Dense(1,activation='sigmoid'))\n",
        "\n",
        "model_1.compile(optimizer=RMSprop(learning_rate=0.001),\n",
        "              loss='binary_crossentropy',\n",
        "              metrics=[metrics.binary_accuracy])\n",
        "\n",
        "history = model_1.fit(x_train,\n",
        "                    y_train,\n",
        "                    epochs=20,\n",
        "                    batch_size=512,\n",
        "                    validation_data=(x_val, y_val))\n",
        "history_dict = history.history\n",
        "history_dict.keys()"
      ],
      "metadata": {
        "colab": {
          "base_uri": "https://localhost:8080/"
        },
        "id": "tJKrWmxCxqlQ",
        "outputId": "e0a1091a-a012-429f-ae4a-4e775f03211e"
      },
      "execution_count": 11,
      "outputs": [
        {
          "output_type": "stream",
          "name": "stderr",
          "text": [
            "/usr/local/lib/python3.10/dist-packages/keras/src/layers/core/dense.py:87: UserWarning: Do not pass an `input_shape`/`input_dim` argument to a layer. When using Sequential models, prefer using an `Input(shape)` object as the first layer in the model instead.\n",
            "  super().__init__(activity_regularizer=activity_regularizer, **kwargs)\n"
          ]
        },
        {
          "output_type": "stream",
          "name": "stdout",
          "text": [
            "Epoch 1/20\n",
            "\u001b[1m30/30\u001b[0m \u001b[32m━━━━━━━━━━━━━━━━━━━━\u001b[0m\u001b[37m\u001b[0m \u001b[1m5s\u001b[0m 79ms/step - binary_accuracy: 0.7309 - loss: 0.6074 - val_binary_accuracy: 0.8560 - val_loss: 0.4250\n",
            "Epoch 2/20\n",
            "\u001b[1m30/30\u001b[0m \u001b[32m━━━━━━━━━━━━━━━━━━━━\u001b[0m\u001b[37m\u001b[0m \u001b[1m1s\u001b[0m 33ms/step - binary_accuracy: 0.8930 - loss: 0.3713 - val_binary_accuracy: 0.8722 - val_loss: 0.3394\n",
            "Epoch 3/20\n",
            "\u001b[1m30/30\u001b[0m \u001b[32m━━━━━━━━━━━━━━━━━━━━\u001b[0m\u001b[37m\u001b[0m \u001b[1m1s\u001b[0m 32ms/step - binary_accuracy: 0.9114 - loss: 0.2748 - val_binary_accuracy: 0.8766 - val_loss: 0.3078\n",
            "Epoch 4/20\n",
            "\u001b[1m30/30\u001b[0m \u001b[32m━━━━━━━━━━━━━━━━━━━━\u001b[0m\u001b[37m\u001b[0m \u001b[1m1s\u001b[0m 33ms/step - binary_accuracy: 0.9255 - loss: 0.2205 - val_binary_accuracy: 0.8770 - val_loss: 0.2988\n",
            "Epoch 5/20\n",
            "\u001b[1m30/30\u001b[0m \u001b[32m━━━━━━━━━━━━━━━━━━━━\u001b[0m\u001b[37m\u001b[0m \u001b[1m1s\u001b[0m 35ms/step - binary_accuracy: 0.9420 - loss: 0.1823 - val_binary_accuracy: 0.8760 - val_loss: 0.3056\n",
            "Epoch 6/20\n",
            "\u001b[1m30/30\u001b[0m \u001b[32m━━━━━━━━━━━━━━━━━━━━\u001b[0m\u001b[37m\u001b[0m \u001b[1m1s\u001b[0m 32ms/step - binary_accuracy: 0.9519 - loss: 0.1551 - val_binary_accuracy: 0.8757 - val_loss: 0.3152\n",
            "Epoch 7/20\n",
            "\u001b[1m30/30\u001b[0m \u001b[32m━━━━━━━━━━━━━━━━━━━━\u001b[0m\u001b[37m\u001b[0m \u001b[1m1s\u001b[0m 35ms/step - binary_accuracy: 0.9609 - loss: 0.1338 - val_binary_accuracy: 0.8740 - val_loss: 0.3278\n",
            "Epoch 8/20\n",
            "\u001b[1m30/30\u001b[0m \u001b[32m━━━━━━━━━━━━━━━━━━━━\u001b[0m\u001b[37m\u001b[0m \u001b[1m1s\u001b[0m 32ms/step - binary_accuracy: 0.9691 - loss: 0.1127 - val_binary_accuracy: 0.8702 - val_loss: 0.3655\n",
            "Epoch 9/20\n",
            "\u001b[1m30/30\u001b[0m \u001b[32m━━━━━━━━━━━━━━━━━━━━\u001b[0m\u001b[37m\u001b[0m \u001b[1m1s\u001b[0m 38ms/step - binary_accuracy: 0.9718 - loss: 0.0996 - val_binary_accuracy: 0.8695 - val_loss: 0.3578\n",
            "Epoch 10/20\n",
            "\u001b[1m30/30\u001b[0m \u001b[32m━━━━━━━━━━━━━━━━━━━━\u001b[0m\u001b[37m\u001b[0m \u001b[1m2s\u001b[0m 50ms/step - binary_accuracy: 0.9797 - loss: 0.0822 - val_binary_accuracy: 0.8703 - val_loss: 0.3824\n",
            "Epoch 11/20\n",
            "\u001b[1m30/30\u001b[0m \u001b[32m━━━━━━━━━━━━━━━━━━━━\u001b[0m\u001b[37m\u001b[0m \u001b[1m2s\u001b[0m 55ms/step - binary_accuracy: 0.9834 - loss: 0.0743 - val_binary_accuracy: 0.8676 - val_loss: 0.3996\n",
            "Epoch 12/20\n",
            "\u001b[1m30/30\u001b[0m \u001b[32m━━━━━━━━━━━━━━━━━━━━\u001b[0m\u001b[37m\u001b[0m \u001b[1m2s\u001b[0m 32ms/step - binary_accuracy: 0.9879 - loss: 0.0608 - val_binary_accuracy: 0.8665 - val_loss: 0.4237\n",
            "Epoch 13/20\n",
            "\u001b[1m30/30\u001b[0m \u001b[32m━━━━━━━━━━━━━━━━━━━━\u001b[0m\u001b[37m\u001b[0m \u001b[1m1s\u001b[0m 33ms/step - binary_accuracy: 0.9888 - loss: 0.0522 - val_binary_accuracy: 0.8648 - val_loss: 0.4512\n",
            "Epoch 14/20\n",
            "\u001b[1m30/30\u001b[0m \u001b[32m━━━━━━━━━━━━━━━━━━━━\u001b[0m\u001b[37m\u001b[0m \u001b[1m1s\u001b[0m 33ms/step - binary_accuracy: 0.9922 - loss: 0.0420 - val_binary_accuracy: 0.8651 - val_loss: 0.4768\n",
            "Epoch 15/20\n",
            "\u001b[1m30/30\u001b[0m \u001b[32m━━━━━━━━━━━━━━━━━━━━\u001b[0m\u001b[37m\u001b[0m \u001b[1m1s\u001b[0m 34ms/step - binary_accuracy: 0.9938 - loss: 0.0368 - val_binary_accuracy: 0.8610 - val_loss: 0.5025\n",
            "Epoch 16/20\n",
            "\u001b[1m30/30\u001b[0m \u001b[32m━━━━━━━━━━━━━━━━━━━━\u001b[0m\u001b[37m\u001b[0m \u001b[1m1s\u001b[0m 33ms/step - binary_accuracy: 0.9946 - loss: 0.0320 - val_binary_accuracy: 0.8639 - val_loss: 0.5267\n",
            "Epoch 17/20\n",
            "\u001b[1m30/30\u001b[0m \u001b[32m━━━━━━━━━━━━━━━━━━━━\u001b[0m\u001b[37m\u001b[0m \u001b[1m1s\u001b[0m 33ms/step - binary_accuracy: 0.9963 - loss: 0.0241 - val_binary_accuracy: 0.8616 - val_loss: 0.5681\n",
            "Epoch 18/20\n",
            "\u001b[1m30/30\u001b[0m \u001b[32m━━━━━━━━━━━━━━━━━━━━\u001b[0m\u001b[37m\u001b[0m \u001b[1m1s\u001b[0m 34ms/step - binary_accuracy: 0.9971 - loss: 0.0217 - val_binary_accuracy: 0.8606 - val_loss: 0.5850\n",
            "Epoch 19/20\n",
            "\u001b[1m30/30\u001b[0m \u001b[32m━━━━━━━━━━━━━━━━━━━━\u001b[0m\u001b[37m\u001b[0m \u001b[1m1s\u001b[0m 33ms/step - binary_accuracy: 0.9979 - loss: 0.0163 - val_binary_accuracy: 0.8595 - val_loss: 0.6156\n",
            "Epoch 20/20\n",
            "\u001b[1m30/30\u001b[0m \u001b[32m━━━━━━━━━━━━━━━━━━━━\u001b[0m\u001b[37m\u001b[0m \u001b[1m2s\u001b[0m 49ms/step - binary_accuracy: 0.9974 - loss: 0.0160 - val_binary_accuracy: 0.8588 - val_loss: 0.6567\n"
          ]
        },
        {
          "output_type": "execute_result",
          "data": {
            "text/plain": [
              "dict_keys(['binary_accuracy', 'loss', 'val_binary_accuracy', 'val_loss'])"
            ]
          },
          "metadata": {},
          "execution_count": 11
        }
      ]
    },
    {
      "cell_type": "code",
      "source": [
        "acc = history_dict['binary_accuracy']\n",
        "val_acc = history_dict['val_binary_accuracy']\n",
        "loss = history_dict['loss']\n",
        "val_loss = history_dict['val_loss']\n",
        "\n",
        "epocs=range(1,len(acc)+1)\n",
        "\n",
        "plt.plot(epocs,loss,'bo',label='Training loss')\n",
        "plt.plot(epocs,val_loss,'b',label='Validation loss')\n",
        "plt.title('Training and validation loss')\n",
        "plt.xlabel('Epochs')\n",
        "plt.ylabel('Loss')\n",
        "plt.legend()\n",
        "\n",
        "plt.show()"
      ],
      "metadata": {
        "colab": {
          "base_uri": "https://localhost:8080/",
          "height": 472
        },
        "id": "E1BXNJPSzPvF",
        "outputId": "0a9a0260-5c97-4b23-d859-da57db78e3be"
      },
      "execution_count": 12,
      "outputs": [
        {
          "output_type": "display_data",
          "data": {
            "text/plain": [
              "<Figure size 640x480 with 1 Axes>"
            ],
            "image/png": "[encoded data removed]"
          },
          "metadata": {}
        }
      ]
    },
    {
      "cell_type": "code",
      "source": [
        "epocs = range(1,len(acc)+1)\n",
        "plt.plot(epocs,acc,'bo',label='Training acc')\n",
        "plt.plot(epocs,val_acc,'b',label='Validation acc')\n",
        "plt.title('Training and validation accuracy')\n",
        "plt.xlabel('Epochs')\n",
        "plt.ylabel('Accuracy')\n",
        "plt.legend()\n",
        "plt.show()"
      ],
      "metadata": {
        "colab": {
          "base_uri": "https://localhost:8080/",
          "height": 472
        },
        "id": "tf_zHM0mzmQO",
        "outputId": "ee02e13d-7d73-4cdd-f3bd-d44027f8a662"
      },
      "execution_count": 13,
      "outputs": [
        {
          "output_type": "display_data",
          "data": {
            "text/plain": [
              "<Figure size 640x480 with 1 Axes>"
            ],
            "image/png": "[encoded data removed]"
          },
          "metadata": {}
        }
      ]
    },
    {
      "cell_type": "markdown",
      "source": [
        "### Count"
      ],
      "metadata": {
        "id": "GvRRPNbg0CCF"
      }
    },
    {
      "cell_type": "code",
      "source": [
        "x_train = tok.texts_to_matrix(trn_texts,mode='count')\n",
        "x_test = tok.texts_to_matrix(tst_texts,mode='count')\n",
        "\n",
        "\n",
        "y_train = np.asarray(trn_labels).astype('float32')\n",
        "y_test = np.asarray(tst_labels).astype('float32')\n",
        "\n",
        "print(x_train.shape)\n",
        "print(y_train.shape)\n",
        "print(x_test.shape)\n",
        "print(y_test.shape)\n",
        "\n",
        "# Split train data into train and validation\n",
        "x_train,x_val ,y_train,y_val = train_test_split(x_train,y_train,test_size=0.4,random_state=42)\n",
        "\n",
        "# build model\n",
        "model_2 = Sequential()\n",
        "model_2.add(Dense(16,activation='relu',input_shape=(vocab_sz,)))\n",
        "model_2.add(Dense(16,activation='relu'))\n",
        "model_2.add(Dense(1,activation='sigmoid'))\n",
        "\n",
        "model_2.compile(optimizer=RMSprop(learning_rate=0.001),\n",
        "              loss='binary_crossentropy',\n",
        "              metrics=[metrics.binary_accuracy])\n",
        "\n",
        "history_2 = model_2.fit(x_train,\n",
        "                    y_train,\n",
        "                    epochs=20,\n",
        "                    batch_size=512,\n",
        "                    validation_data=(x_val, y_val))\n",
        "history_dict_2 = history_2.history\n",
        "history_dict_2.keys()\n",
        "\n"
      ],
      "metadata": {
        "colab": {
          "base_uri": "https://localhost:8080/"
        },
        "id": "6incm5n7z1Kb",
        "outputId": "59df6a93-a71a-40d9-c20a-d1a8f4227cda"
      },
      "execution_count": 14,
      "outputs": [
        {
          "output_type": "stream",
          "name": "stdout",
          "text": [
            "(25000, 10000)\n",
            "(25000,)\n",
            "(25000, 10000)\n",
            "(25000,)\n",
            "Epoch 1/20\n",
            "\u001b[1m30/30\u001b[0m \u001b[32m━━━━━━━━━━━━━━━━━━━━\u001b[0m\u001b[37m\u001b[0m \u001b[1m3s\u001b[0m 60ms/step - binary_accuracy: 0.7099 - loss: 0.6029 - val_binary_accuracy: 0.8606 - val_loss: 0.4107\n",
            "Epoch 2/20\n",
            "\u001b[1m30/30\u001b[0m \u001b[32m━━━━━━━━━━━━━━━━━━━━\u001b[0m\u001b[37m\u001b[0m \u001b[1m1s\u001b[0m 32ms/step - binary_accuracy: 0.8918 - loss: 0.3538 - val_binary_accuracy: 0.8676 - val_loss: 0.3466\n",
            "Epoch 3/20\n",
            "\u001b[1m30/30\u001b[0m \u001b[32m━━━━━━━━━━━━━━━━━━━━\u001b[0m\u001b[37m\u001b[0m \u001b[1m2s\u001b[0m 54ms/step - binary_accuracy: 0.9136 - loss: 0.2607 - val_binary_accuracy: 0.8800 - val_loss: 0.3039\n",
            "Epoch 4/20\n",
            "\u001b[1m30/30\u001b[0m \u001b[32m━━━━━━━━━━━━━━━━━━━━\u001b[0m\u001b[37m\u001b[0m \u001b[1m2s\u001b[0m 53ms/step - binary_accuracy: 0.9333 - loss: 0.2050 - val_binary_accuracy: 0.8827 - val_loss: 0.3098\n",
            "Epoch 5/20\n",
            "\u001b[1m30/30\u001b[0m \u001b[32m━━━━━━━━━━━━━━━━━━━━\u001b[0m\u001b[37m\u001b[0m \u001b[1m2s\u001b[0m 33ms/step - binary_accuracy: 0.9460 - loss: 0.1694 - val_binary_accuracy: 0.8564 - val_loss: 0.3699\n",
            "Epoch 6/20\n",
            "\u001b[1m30/30\u001b[0m \u001b[32m━━━━━━━━━━━━━━━━━━━━\u001b[0m\u001b[37m\u001b[0m \u001b[1m1s\u001b[0m 32ms/step - binary_accuracy: 0.9509 - loss: 0.1523 - val_binary_accuracy: 0.8768 - val_loss: 0.3357\n",
            "Epoch 7/20\n",
            "\u001b[1m30/30\u001b[0m \u001b[32m━━━━━━━━━━━━━━━━━━━━\u001b[0m\u001b[37m\u001b[0m \u001b[1m1s\u001b[0m 34ms/step - binary_accuracy: 0.9608 - loss: 0.1291 - val_binary_accuracy: 0.8761 - val_loss: 0.3428\n",
            "Epoch 8/20\n",
            "\u001b[1m30/30\u001b[0m \u001b[32m━━━━━━━━━━━━━━━━━━━━\u001b[0m\u001b[37m\u001b[0m \u001b[1m1s\u001b[0m 32ms/step - binary_accuracy: 0.9697 - loss: 0.1061 - val_binary_accuracy: 0.8784 - val_loss: 0.3419\n",
            "Epoch 9/20\n",
            "\u001b[1m30/30\u001b[0m \u001b[32m━━━━━━━━━━━━━━━━━━━━\u001b[0m\u001b[37m\u001b[0m \u001b[1m1s\u001b[0m 32ms/step - binary_accuracy: 0.9725 - loss: 0.0954 - val_binary_accuracy: 0.8719 - val_loss: 0.3710\n",
            "Epoch 10/20\n",
            "\u001b[1m30/30\u001b[0m \u001b[32m━━━━━━━━━━━━━━━━━━━━\u001b[0m\u001b[37m\u001b[0m \u001b[1m1s\u001b[0m 31ms/step - binary_accuracy: 0.9800 - loss: 0.0810 - val_binary_accuracy: 0.8718 - val_loss: 0.3892\n",
            "Epoch 11/20\n",
            "\u001b[1m30/30\u001b[0m \u001b[32m━━━━━━━━━━━━━━━━━━━━\u001b[0m\u001b[37m\u001b[0m \u001b[1m1s\u001b[0m 33ms/step - binary_accuracy: 0.9846 - loss: 0.0664 - val_binary_accuracy: 0.8726 - val_loss: 0.4025\n",
            "Epoch 12/20\n",
            "\u001b[1m30/30\u001b[0m \u001b[32m━━━━━━━━━━━━━━━━━━━━\u001b[0m\u001b[37m\u001b[0m \u001b[1m1s\u001b[0m 32ms/step - binary_accuracy: 0.9860 - loss: 0.0605 - val_binary_accuracy: 0.8684 - val_loss: 0.4317\n",
            "Epoch 13/20\n",
            "\u001b[1m30/30\u001b[0m \u001b[32m━━━━━━━━━━━━━━━━━━━━\u001b[0m\u001b[37m\u001b[0m \u001b[1m1s\u001b[0m 50ms/step - binary_accuracy: 0.9894 - loss: 0.0506 - val_binary_accuracy: 0.8689 - val_loss: 0.4451\n",
            "Epoch 14/20\n",
            "\u001b[1m30/30\u001b[0m \u001b[32m━━━━━━━━━━━━━━━━━━━━\u001b[0m\u001b[37m\u001b[0m \u001b[1m2s\u001b[0m 41ms/step - binary_accuracy: 0.9919 - loss: 0.0409 - val_binary_accuracy: 0.8626 - val_loss: 0.4911\n",
            "Epoch 15/20\n",
            "\u001b[1m30/30\u001b[0m \u001b[32m━━━━━━━━━━━━━━━━━━━━\u001b[0m\u001b[37m\u001b[0m \u001b[1m1s\u001b[0m 32ms/step - binary_accuracy: 0.9941 - loss: 0.0355 - val_binary_accuracy: 0.8666 - val_loss: 0.4953\n",
            "Epoch 16/20\n",
            "\u001b[1m30/30\u001b[0m \u001b[32m━━━━━━━━━━━━━━━━━━━━\u001b[0m\u001b[37m\u001b[0m \u001b[1m1s\u001b[0m 32ms/step - binary_accuracy: 0.9949 - loss: 0.0309 - val_binary_accuracy: 0.8663 - val_loss: 0.5181\n",
            "Epoch 17/20\n",
            "\u001b[1m30/30\u001b[0m \u001b[32m━━━━━━━━━━━━━━━━━━━━\u001b[0m\u001b[37m\u001b[0m \u001b[1m1s\u001b[0m 32ms/step - binary_accuracy: 0.9973 - loss: 0.0228 - val_binary_accuracy: 0.8646 - val_loss: 0.5436\n",
            "Epoch 18/20\n",
            "\u001b[1m30/30\u001b[0m \u001b[32m━━━━━━━━━━━━━━━━━━━━\u001b[0m\u001b[37m\u001b[0m \u001b[1m1s\u001b[0m 32ms/step - binary_accuracy: 0.9973 - loss: 0.0208 - val_binary_accuracy: 0.8625 - val_loss: 0.5741\n",
            "Epoch 19/20\n",
            "\u001b[1m30/30\u001b[0m \u001b[32m━━━━━━━━━━━━━━━━━━━━\u001b[0m\u001b[37m\u001b[0m \u001b[1m1s\u001b[0m 32ms/step - binary_accuracy: 0.9984 - loss: 0.0161 - val_binary_accuracy: 0.8602 - val_loss: 0.6203\n",
            "Epoch 20/20\n",
            "\u001b[1m30/30\u001b[0m \u001b[32m━━━━━━━━━━━━━━━━━━━━\u001b[0m\u001b[37m\u001b[0m \u001b[1m1s\u001b[0m 32ms/step - binary_accuracy: 0.9969 - loss: 0.0175 - val_binary_accuracy: 0.8620 - val_loss: 0.6334\n"
          ]
        },
        {
          "output_type": "execute_result",
          "data": {
            "text/plain": [
              "dict_keys(['binary_accuracy', 'loss', 'val_binary_accuracy', 'val_loss'])"
            ]
          },
          "metadata": {},
          "execution_count": 14
        }
      ]
    },
    {
      "cell_type": "code",
      "source": [
        "acc = history_dict_2['binary_accuracy']\n",
        "val_acc = history_dict_2['val_binary_accuracy']\n",
        "loss = history_dict_2['loss']\n",
        "val_loss = history_dict_2['val_loss']\n",
        "\n",
        "epocs=range(1,len(acc)+1)\n",
        "\n",
        "plt.plot(epocs,loss,'bo',label='Training loss')\n",
        "plt.plot(epocs,val_loss,'b',label='Validation loss')\n",
        "plt.title('Training and validation loss')\n",
        "plt.xlabel('Epochs')\n",
        "plt.ylabel('Loss')\n",
        "plt.legend()\n",
        "\n",
        "plt.show()\n",
        "\n",
        "epocs = range(1,len(acc)+1)\n",
        "plt.plot(epocs,acc,'bo',label='Training acc')\n",
        "plt.plot(epocs,val_acc,'b',label='Validation acc')\n",
        "plt.title('Training and validation accuracy')\n",
        "plt.xlabel('Epochs')\n",
        "plt.ylabel('Accuracy')\n",
        "plt.legend()\n",
        "plt.show()\n",
        "\n",
        "\n"
      ],
      "metadata": {
        "colab": {
          "base_uri": "https://localhost:8080/",
          "height": 927
        },
        "id": "0VhG6_6C0uGs",
        "outputId": "36c36336-c4af-4157-b686-71c0511382f0"
      },
      "execution_count": 15,
      "outputs": [
        {
          "output_type": "display_data",
          "data": {
            "text/plain": [
              "<Figure size 640x480 with 1 Axes>"
            ],
            "image/png": "[encoded data removed]"
          },
          "metadata": {}
        },
        {
          "output_type": "display_data",
          "data": {
            "text/plain": [
              "<Figure size 640x480 with 1 Axes>"
            ],
            "image/png": "[encoded data removed]"
          },
          "metadata": {}
        }
      ]
    },
    {
      "cell_type": "markdown",
      "source": [
        "### Freq"
      ],
      "metadata": {
        "id": "u8xD-4Qm1a47"
      }
    },
    {
      "cell_type": "code",
      "source": [
        "x_train = tok.texts_to_matrix(trn_texts,mode='freq')\n",
        "x_test = tok.texts_to_matrix(tst_texts,mode='freq')\n",
        "\n",
        "\n",
        "y_train = np.asarray(trn_labels).astype('float32')\n",
        "y_test = np.asarray(tst_labels).astype('float32')\n",
        "\n",
        "print(x_train.shape)\n",
        "print(y_train.shape)\n",
        "print(x_test.shape)\n",
        "print(y_test.shape)\n",
        "\n",
        "# Split train data into train and validation\n",
        "x_train,x_val ,y_train,y_val = train_test_split(x_train,y_train,test_size=0.4,random_state=42)\n",
        "\n",
        "# build model\n",
        "model_3 = Sequential()\n",
        "model_3.add(Dense(16,activation='relu',input_shape=(vocab_sz,)))\n",
        "model_3.add(Dense(16,activation='relu'))\n",
        "model_3.add(Dense(1,activation='sigmoid'))\n",
        "\n",
        "model_3.compile(optimizer=RMSprop(learning_rate=0.001),\n",
        "              loss='binary_crossentropy',\n",
        "              metrics=[metrics.binary_accuracy])\n",
        "\n",
        "history_3 = model_3.fit(x_train,\n",
        "                    y_train,\n",
        "                    epochs=20,\n",
        "                    batch_size=512,\n",
        "                    validation_data=(x_val, y_val))\n",
        "history_dict_3 = history_3.history\n",
        "history_dict_3.keys()\n",
        "\n"
      ],
      "metadata": {
        "colab": {
          "base_uri": "https://localhost:8080/"
        },
        "id": "a4QzE0K-1aWm",
        "outputId": "f5ea2489-6b0b-4f0e-8d34-38aeff1faa55"
      },
      "execution_count": 16,
      "outputs": [
        {
          "output_type": "stream",
          "name": "stdout",
          "text": [
            "(25000, 10000)\n",
            "(25000,)\n",
            "(25000, 10000)\n",
            "(25000,)\n",
            "Epoch 1/20\n",
            "\u001b[1m30/30\u001b[0m \u001b[32m━━━━━━━━━━━━━━━━━━━━\u001b[0m\u001b[37m\u001b[0m \u001b[1m3s\u001b[0m 61ms/step - binary_accuracy: 0.5077 - loss: 0.6930 - val_binary_accuracy: 0.4962 - val_loss: 0.6928\n",
            "Epoch 2/20\n",
            "\u001b[1m30/30\u001b[0m \u001b[32m━━━━━━━━━━━━━━━━━━━━\u001b[0m\u001b[37m\u001b[0m \u001b[1m2s\u001b[0m 44ms/step - binary_accuracy: 0.5603 - loss: 0.6923 - val_binary_accuracy: 0.5540 - val_loss: 0.6915\n",
            "Epoch 3/20\n",
            "\u001b[1m30/30\u001b[0m \u001b[32m━━━━━━━━━━━━━━━━━━━━\u001b[0m\u001b[37m\u001b[0m \u001b[1m3s\u001b[0m 46ms/step - binary_accuracy: 0.6073 - loss: 0.6911 - val_binary_accuracy: 0.5836 - val_loss: 0.6900\n",
            "Epoch 4/20\n",
            "\u001b[1m30/30\u001b[0m \u001b[32m━━━━━━━━━━━━━━━━━━━━\u001b[0m\u001b[37m\u001b[0m \u001b[1m1s\u001b[0m 34ms/step - binary_accuracy: 0.6446 - loss: 0.6892 - val_binary_accuracy: 0.6371 - val_loss: 0.6873\n",
            "Epoch 5/20\n",
            "\u001b[1m30/30\u001b[0m \u001b[32m━━━━━━━━━━━━━━━━━━━━\u001b[0m\u001b[37m\u001b[0m \u001b[1m1s\u001b[0m 33ms/step - binary_accuracy: 0.6760 - loss: 0.6863 - val_binary_accuracy: 0.6714 - val_loss: 0.6834\n",
            "Epoch 6/20\n",
            "\u001b[1m30/30\u001b[0m \u001b[32m━━━━━━━━━━━━━━━━━━━━\u001b[0m\u001b[37m\u001b[0m \u001b[1m1s\u001b[0m 33ms/step - binary_accuracy: 0.6927 - loss: 0.6821 - val_binary_accuracy: 0.6675 - val_loss: 0.6783\n",
            "Epoch 7/20\n",
            "\u001b[1m30/30\u001b[0m \u001b[32m━━━━━━━━━━━━━━━━━━━━\u001b[0m\u001b[37m\u001b[0m \u001b[1m1s\u001b[0m 32ms/step - binary_accuracy: 0.6984 - loss: 0.6759 - val_binary_accuracy: 0.7287 - val_loss: 0.6712\n",
            "Epoch 8/20\n",
            "\u001b[1m30/30\u001b[0m \u001b[32m━━━━━━━━━━━━━━━━━━━━\u001b[0m\u001b[37m\u001b[0m \u001b[1m1s\u001b[0m 32ms/step - binary_accuracy: 0.7299 - loss: 0.6689 - val_binary_accuracy: 0.7394 - val_loss: 0.6622\n",
            "Epoch 9/20\n",
            "\u001b[1m30/30\u001b[0m \u001b[32m━━━━━━━━━━━━━━━━━━━━\u001b[0m\u001b[37m\u001b[0m \u001b[1m2s\u001b[0m 50ms/step - binary_accuracy: 0.7487 - loss: 0.6585 - val_binary_accuracy: 0.7570 - val_loss: 0.6516\n",
            "Epoch 10/20\n",
            "\u001b[1m30/30\u001b[0m \u001b[32m━━━━━━━━━━━━━━━━━━━━\u001b[0m\u001b[37m\u001b[0m \u001b[1m2s\u001b[0m 33ms/step - binary_accuracy: 0.7621 - loss: 0.6464 - val_binary_accuracy: 0.7257 - val_loss: 0.6383\n",
            "Epoch 11/20\n",
            "\u001b[1m30/30\u001b[0m \u001b[32m━━━━━━━━━━━━━━━━━━━━\u001b[0m\u001b[37m\u001b[0m \u001b[1m2s\u001b[0m 59ms/step - binary_accuracy: 0.7617 - loss: 0.6316 - val_binary_accuracy: 0.7764 - val_loss: 0.6231\n",
            "Epoch 12/20\n",
            "\u001b[1m30/30\u001b[0m \u001b[32m━━━━━━━━━━━━━━━━━━━━\u001b[0m\u001b[37m\u001b[0m \u001b[1m2s\u001b[0m 32ms/step - binary_accuracy: 0.7845 - loss: 0.6151 - val_binary_accuracy: 0.7856 - val_loss: 0.6049\n",
            "Epoch 13/20\n",
            "\u001b[1m30/30\u001b[0m \u001b[32m━━━━━━━━━━━━━━━━━━━━\u001b[0m\u001b[37m\u001b[0m \u001b[1m1s\u001b[0m 32ms/step - binary_accuracy: 0.7949 - loss: 0.5964 - val_binary_accuracy: 0.7915 - val_loss: 0.5865\n",
            "Epoch 14/20\n",
            "\u001b[1m30/30\u001b[0m \u001b[32m━━━━━━━━━━━━━━━━━━━━\u001b[0m\u001b[37m\u001b[0m \u001b[1m1s\u001b[0m 34ms/step - binary_accuracy: 0.8080 - loss: 0.5757 - val_binary_accuracy: 0.7884 - val_loss: 0.5681\n",
            "Epoch 15/20\n",
            "\u001b[1m30/30\u001b[0m \u001b[32m━━━━━━━━━━━━━━━━━━━━\u001b[0m\u001b[37m\u001b[0m \u001b[1m1s\u001b[0m 32ms/step - binary_accuracy: 0.8178 - loss: 0.5522 - val_binary_accuracy: 0.8061 - val_loss: 0.5423\n",
            "Epoch 16/20\n",
            "\u001b[1m30/30\u001b[0m \u001b[32m━━━━━━━━━━━━━━━━━━━━\u001b[0m\u001b[37m\u001b[0m \u001b[1m1s\u001b[0m 32ms/step - binary_accuracy: 0.8216 - loss: 0.5308 - val_binary_accuracy: 0.8095 - val_loss: 0.5197\n",
            "Epoch 17/20\n",
            "\u001b[1m30/30\u001b[0m \u001b[32m━━━━━━━━━━━━━━━━━━━━\u001b[0m\u001b[37m\u001b[0m \u001b[1m1s\u001b[0m 32ms/step - binary_accuracy: 0.8302 - loss: 0.5060 - val_binary_accuracy: 0.8154 - val_loss: 0.4971\n",
            "Epoch 18/20\n",
            "\u001b[1m30/30\u001b[0m \u001b[32m━━━━━━━━━━━━━━━━━━━━\u001b[0m\u001b[37m\u001b[0m \u001b[1m1s\u001b[0m 35ms/step - binary_accuracy: 0.8405 - loss: 0.4801 - val_binary_accuracy: 0.8194 - val_loss: 0.4759\n",
            "Epoch 19/20\n",
            "\u001b[1m30/30\u001b[0m \u001b[32m━━━━━━━━━━━━━━━━━━━━\u001b[0m\u001b[37m\u001b[0m \u001b[1m1s\u001b[0m 30ms/step - binary_accuracy: 0.8458 - loss: 0.4558 - val_binary_accuracy: 0.8216 - val_loss: 0.4612\n",
            "Epoch 20/20\n",
            "\u001b[1m30/30\u001b[0m \u001b[32m━━━━━━━━━━━━━━━━━━━━\u001b[0m\u001b[37m\u001b[0m \u001b[1m2s\u001b[0m 41ms/step - binary_accuracy: 0.8497 - loss: 0.4369 - val_binary_accuracy: 0.8299 - val_loss: 0.4392\n"
          ]
        },
        {
          "output_type": "execute_result",
          "data": {
            "text/plain": [
              "dict_keys(['binary_accuracy', 'loss', 'val_binary_accuracy', 'val_loss'])"
            ]
          },
          "metadata": {},
          "execution_count": 16
        }
      ]
    },
    {
      "cell_type": "code",
      "source": [
        "acc = history_dict_3['binary_accuracy']\n",
        "val_acc = history_dict_3['val_binary_accuracy']\n",
        "loss = history_dict_3['loss']\n",
        "val_loss = history_dict_3['val_loss']\n",
        "\n",
        "epocs=range(1,len(acc)+1)\n",
        "\n",
        "plt.plot(epocs,loss,'bo',label='Training loss')\n",
        "plt.plot(epocs,val_loss,'b',label='Validation loss')\n",
        "plt.title('Training and validation loss')\n",
        "plt.xlabel('Epochs')\n",
        "plt.ylabel('Loss')\n",
        "plt.legend()\n",
        "\n",
        "plt.show()\n",
        "print()\n",
        "\n",
        "epocs = range(1,len(acc)+1)\n",
        "plt.plot(epocs,acc,'bo',label='Training acc')\n",
        "plt.plot(epocs,val_acc,'b',label='Validation acc')\n",
        "plt.title('Training and validation accuracy')\n",
        "plt.xlabel('Epochs')\n",
        "plt.ylabel('Accuracy')\n",
        "plt.legend()\n",
        "plt.show()\n",
        "\n",
        "\n"
      ],
      "metadata": {
        "colab": {
          "base_uri": "https://localhost:8080/",
          "height": 945
        },
        "id": "5cVlNvn32hQA",
        "outputId": "2d9fe52b-6d7c-43d6-cbd7-b20211c8d8f0"
      },
      "execution_count": 17,
      "outputs": [
        {
          "output_type": "display_data",
          "data": {
            "text/plain": [
              "<Figure size 640x480 with 1 Axes>"
            ],
            "image/png": "[encoded data removed]"
          },
          "metadata": {}
        },
        {
          "output_type": "stream",
          "name": "stdout",
          "text": [
            "\n"
          ]
        },
        {
          "output_type": "display_data",
          "data": {
            "text/plain": [
              "<Figure size 640x480 with 1 Axes>"
            ],
            "image/png": "[encoded data removed]"
          },
          "metadata": {}
        }
      ]
    },
    {
      "cell_type": "code",
      "source": [
        "y_pred = model_3.predict(x_test)\n",
        "\n",
        "# measure accuracy\n",
        "from sklearn.metrics import accuracy_score\n",
        "accuracy_score(y_test,y_pred.round())\n"
      ],
      "metadata": {
        "colab": {
          "base_uri": "https://localhost:8080/"
        },
        "id": "khOLtIed21IE",
        "outputId": "ae893cf0-e6a8-4776-af19-16872b59dfa0"
      },
      "execution_count": 18,
      "outputs": [
        {
          "output_type": "stream",
          "name": "stdout",
          "text": [
            "\u001b[1m782/782\u001b[0m \u001b[32m━━━━━━━━━━━━━━━━━━━━\u001b[0m\u001b[37m\u001b[0m \u001b[1m2s\u001b[0m 2ms/step\n"
          ]
        },
        {
          "output_type": "execute_result",
          "data": {
            "text/plain": [
              "0.83652"
            ]
          },
          "metadata": {},
          "execution_count": 18
        }
      ]
    },
    {
      "cell_type": "markdown",
      "source": [
        "###  TfIdF"
      ],
      "metadata": {
        "id": "p6Ofm2883PzX"
      }
    },
    {
      "cell_type": "code",
      "source": [
        "# bulid vocb using tfidfVictorizer\n",
        "vectorizer = TfidfVectorizer(max_features=vocab_sz)\n",
        "vectorizer.fit(trn_texts+tst_texts)\n",
        "\n",
        "x_train = vectorizer.transform(trn_texts)\n",
        "x_test = vectorizer.transform(tst_texts)\n",
        "\n",
        "\n",
        "y_train = np.asarray(trn_labels).astype('float32')\n",
        "y_test = np.asarray(tst_labels).astype('float32')\n",
        "\n",
        "print(x_train.shape)\n",
        "print(y_train.shape)\n",
        "print(x_test.shape)\n",
        "print(y_test.shape)\n",
        "\n",
        "# Split train data into train and validation\n",
        "x_train,x_val ,y_train,y_val = train_test_split(x_train,y_train,test_size=0.4,random_state=42)\n",
        "\n",
        "# build model\n",
        "model_4 = Sequential()\n",
        "model_4.add(Dense(16,activation='relu',input_shape=(vocab_sz,)))\n",
        "model_4.add(Dense(16,activation='relu'))\n",
        "model_4.add(Dense(1,activation='sigmoid'))\n",
        "\n",
        "model_4.compile(optimizer=RMSprop(learning_rate=0.001),\n",
        "              loss='binary_crossentropy',\n",
        "              metrics=[metrics.binary_accuracy])\n",
        "\n",
        "history_4 = model_4.fit(x_train,\n",
        "                    y_train,\n",
        "                    epochs=20,\n",
        "                    batch_size=512,\n",
        "                    validation_data=(x_val, y_val))\n",
        "history_dict_4 = history_4.history\n",
        "history_dict_4.keys()\n",
        "\n"
      ],
      "metadata": {
        "colab": {
          "base_uri": "https://localhost:8080/"
        },
        "id": "oCFwkevt3XHI",
        "outputId": "28ed80b2-964c-446c-b401-a6b8e1904469"
      },
      "execution_count": 19,
      "outputs": [
        {
          "output_type": "stream",
          "name": "stdout",
          "text": [
            "(25000, 10000)\n",
            "(25000,)\n",
            "(25000, 10000)\n",
            "(25000,)\n"
          ]
        },
        {
          "output_type": "stream",
          "name": "stderr",
          "text": [
            "/usr/local/lib/python3.10/dist-packages/keras/src/layers/core/dense.py:87: UserWarning: Do not pass an `input_shape`/`input_dim` argument to a layer. When using Sequential models, prefer using an `Input(shape)` object as the first layer in the model instead.\n",
            "  super().__init__(activity_regularizer=activity_regularizer, **kwargs)\n"
          ]
        },
        {
          "output_type": "stream",
          "name": "stdout",
          "text": [
            "Epoch 1/20\n",
            "\u001b[1m30/30\u001b[0m \u001b[32m━━━━━━━━━━━━━━━━━━━━\u001b[0m\u001b[37m\u001b[0m \u001b[1m3s\u001b[0m 73ms/step - binary_accuracy: 0.6178 - loss: 0.6900 - val_binary_accuracy: 0.8059 - val_loss: 0.6706\n",
            "Epoch 2/20\n",
            "\u001b[1m30/30\u001b[0m \u001b[32m━━━━━━━━━━━━━━━━━━━━\u001b[0m\u001b[37m\u001b[0m \u001b[1m1s\u001b[0m 30ms/step - binary_accuracy: 0.8436 - loss: 0.6570 - val_binary_accuracy: 0.8381 - val_loss: 0.6180\n",
            "Epoch 3/20\n",
            "\u001b[1m30/30\u001b[0m \u001b[32m━━━━━━━━━━━━━━━━━━━━\u001b[0m\u001b[37m\u001b[0m \u001b[1m1s\u001b[0m 30ms/step - binary_accuracy: 0.8662 - loss: 0.5952 - val_binary_accuracy: 0.8464 - val_loss: 0.5484\n",
            "Epoch 4/20\n",
            "\u001b[1m30/30\u001b[0m \u001b[32m━━━━━━━━━━━━━━━━━━━━\u001b[0m\u001b[37m\u001b[0m \u001b[1m1s\u001b[0m 31ms/step - binary_accuracy: 0.8733 - loss: 0.5178 - val_binary_accuracy: 0.8586 - val_loss: 0.4747\n",
            "Epoch 5/20\n",
            "\u001b[1m30/30\u001b[0m \u001b[32m━━━━━━━━━━━━━━━━━━━━\u001b[0m\u001b[37m\u001b[0m \u001b[1m1s\u001b[0m 30ms/step - binary_accuracy: 0.8844 - loss: 0.4377 - val_binary_accuracy: 0.8625 - val_loss: 0.4106\n",
            "Epoch 6/20\n",
            "\u001b[1m30/30\u001b[0m \u001b[32m━━━━━━━━━━━━━━━━━━━━\u001b[0m\u001b[37m\u001b[0m \u001b[1m1s\u001b[0m 30ms/step - binary_accuracy: 0.8930 - loss: 0.3693 - val_binary_accuracy: 0.8695 - val_loss: 0.3613\n",
            "Epoch 7/20\n",
            "\u001b[1m30/30\u001b[0m \u001b[32m━━━━━━━━━━━━━━━━━━━━\u001b[0m\u001b[37m\u001b[0m \u001b[1m1s\u001b[0m 30ms/step - binary_accuracy: 0.9063 - loss: 0.3108 - val_binary_accuracy: 0.8753 - val_loss: 0.3267\n",
            "Epoch 8/20\n",
            "\u001b[1m30/30\u001b[0m \u001b[32m━━━━━━━━━━━━━━━━━━━━\u001b[0m\u001b[37m\u001b[0m \u001b[1m1s\u001b[0m 30ms/step - binary_accuracy: 0.9124 - loss: 0.2706 - val_binary_accuracy: 0.8794 - val_loss: 0.3036\n",
            "Epoch 9/20\n",
            "\u001b[1m30/30\u001b[0m \u001b[32m━━━━━━━━━━━━━━━━━━━━\u001b[0m\u001b[37m\u001b[0m \u001b[1m1s\u001b[0m 30ms/step - binary_accuracy: 0.9217 - loss: 0.2347 - val_binary_accuracy: 0.8830 - val_loss: 0.2885\n",
            "Epoch 10/20\n",
            "\u001b[1m30/30\u001b[0m \u001b[32m━━━━━━━━━━━━━━━━━━━━\u001b[0m\u001b[37m\u001b[0m \u001b[1m1s\u001b[0m 29ms/step - binary_accuracy: 0.9279 - loss: 0.2095 - val_binary_accuracy: 0.8845 - val_loss: 0.2808\n",
            "Epoch 11/20\n",
            "\u001b[1m30/30\u001b[0m \u001b[32m━━━━━━━━━━━━━━━━━━━━\u001b[0m\u001b[37m\u001b[0m \u001b[1m1s\u001b[0m 43ms/step - binary_accuracy: 0.9336 - loss: 0.1891 - val_binary_accuracy: 0.8815 - val_loss: 0.2799\n",
            "Epoch 12/20\n",
            "\u001b[1m30/30\u001b[0m \u001b[32m━━━━━━━━━━━━━━━━━━━━\u001b[0m\u001b[37m\u001b[0m \u001b[1m1s\u001b[0m 47ms/step - binary_accuracy: 0.9407 - loss: 0.1730 - val_binary_accuracy: 0.8835 - val_loss: 0.2768\n",
            "Epoch 13/20\n",
            "\u001b[1m30/30\u001b[0m \u001b[32m━━━━━━━━━━━━━━━━━━━━\u001b[0m\u001b[37m\u001b[0m \u001b[1m2s\u001b[0m 30ms/step - binary_accuracy: 0.9478 - loss: 0.1551 - val_binary_accuracy: 0.8839 - val_loss: 0.2778\n",
            "Epoch 14/20\n",
            "\u001b[1m30/30\u001b[0m \u001b[32m━━━━━━━━━━━━━━━━━━━━\u001b[0m\u001b[37m\u001b[0m \u001b[1m1s\u001b[0m 29ms/step - binary_accuracy: 0.9527 - loss: 0.1395 - val_binary_accuracy: 0.8837 - val_loss: 0.2820\n",
            "Epoch 15/20\n",
            "\u001b[1m30/30\u001b[0m \u001b[32m━━━━━━━━━━━━━━━━━━━━\u001b[0m\u001b[37m\u001b[0m \u001b[1m1s\u001b[0m 30ms/step - binary_accuracy: 0.9590 - loss: 0.1284 - val_binary_accuracy: 0.8827 - val_loss: 0.2901\n",
            "Epoch 16/20\n",
            "\u001b[1m30/30\u001b[0m \u001b[32m━━━━━━━━━━━━━━━━━━━━\u001b[0m\u001b[37m\u001b[0m \u001b[1m1s\u001b[0m 30ms/step - binary_accuracy: 0.9633 - loss: 0.1186 - val_binary_accuracy: 0.8821 - val_loss: 0.2945\n",
            "Epoch 17/20\n",
            "\u001b[1m30/30\u001b[0m \u001b[32m━━━━━━━━━━━━━━━━━━━━\u001b[0m\u001b[37m\u001b[0m \u001b[1m1s\u001b[0m 30ms/step - binary_accuracy: 0.9700 - loss: 0.1044 - val_binary_accuracy: 0.8788 - val_loss: 0.3081\n",
            "Epoch 18/20\n",
            "\u001b[1m30/30\u001b[0m \u001b[32m━━━━━━━━━━━━━━━━━━━━\u001b[0m\u001b[37m\u001b[0m \u001b[1m1s\u001b[0m 30ms/step - binary_accuracy: 0.9732 - loss: 0.0950 - val_binary_accuracy: 0.8794 - val_loss: 0.3153\n",
            "Epoch 19/20\n",
            "\u001b[1m30/30\u001b[0m \u001b[32m━━━━━━━━━━━━━━━━━━━━\u001b[0m\u001b[37m\u001b[0m \u001b[1m1s\u001b[0m 30ms/step - binary_accuracy: 0.9776 - loss: 0.0858 - val_binary_accuracy: 0.8772 - val_loss: 0.3257\n",
            "Epoch 20/20\n",
            "\u001b[1m30/30\u001b[0m \u001b[32m━━━━━━━━━━━━━━━━━━━━\u001b[0m\u001b[37m\u001b[0m \u001b[1m1s\u001b[0m 29ms/step - binary_accuracy: 0.9800 - loss: 0.0826 - val_binary_accuracy: 0.8764 - val_loss: 0.3403\n"
          ]
        },
        {
          "output_type": "execute_result",
          "data": {
            "text/plain": [
              "dict_keys(['binary_accuracy', 'loss', 'val_binary_accuracy', 'val_loss'])"
            ]
          },
          "metadata": {},
          "execution_count": 19
        }
      ]
    },
    {
      "cell_type": "code",
      "source": [
        "acc = history_dict_4['binary_accuracy']\n",
        "val_acc = history_dict_4['val_binary_accuracy']\n",
        "loss = history_dict_4['loss']\n",
        "val_loss = history_dict_4['val_loss']\n",
        "\n",
        "epocs=range(1,len(acc)+1)\n",
        "\n",
        "plt.plot(epocs,loss,'bo',label='Training loss')\n",
        "plt.plot(epocs,val_loss,'b',label='Validation loss')\n",
        "plt.title('Training and validation loss')\n",
        "plt.xlabel('Epochs')\n",
        "plt.ylabel('Loss')\n",
        "plt.legend()\n",
        "\n",
        "plt.show()\n",
        "print()\n",
        "\n",
        "epocs = range(1,len(acc)+1)\n",
        "plt.plot(epocs,acc,'bo',label='Training acc')\n",
        "plt.plot(epocs,val_acc,'b',label='Validation acc')\n",
        "plt.title('Training and validation accuracy')\n",
        "plt.xlabel('Epochs')\n",
        "plt.ylabel('Accuracy')\n",
        "plt.legend()\n",
        "plt.show()\n",
        "\n",
        "\n"
      ],
      "metadata": {
        "colab": {
          "base_uri": "https://localhost:8080/",
          "height": 945
        },
        "id": "r-HjfsuU4h2f",
        "outputId": "e2cde5b8-3e14-474d-b97e-5c741a372f35"
      },
      "execution_count": 20,
      "outputs": [
        {
          "output_type": "display_data",
          "data": {
            "text/plain": [
              "<Figure size 640x480 with 1 Axes>"
            ],
            "image/png": "[encoded data removed]"
          },
          "metadata": {}
        },
        {
          "output_type": "stream",
          "name": "stdout",
          "text": [
            "\n"
          ]
        },
        {
          "output_type": "display_data",
          "data": {
            "text/plain": [
              "<Figure size 640x480 with 1 Axes>"
            ],
            "image/png": "[encoded data removed]"
          },
          "metadata": {}
        }
      ]
    },
    {
      "cell_type": "code",
      "source": [
        "model_4.evaluate(x_test,y_test)"
      ],
      "metadata": {
        "colab": {
          "base_uri": "https://localhost:8080/"
        },
        "id": "962_tYow5u7Q",
        "outputId": "7e348817-5797-4c3a-905d-5e633e75d5b5"
      },
      "execution_count": 21,
      "outputs": [
        {
          "output_type": "stream",
          "name": "stdout",
          "text": [
            "\u001b[1m782/782\u001b[0m \u001b[32m━━━━━━━━━━━━━━━━━━━━\u001b[0m\u001b[37m\u001b[0m \u001b[1m3s\u001b[0m 4ms/step - binary_accuracy: 0.8362 - loss: 0.4461\n"
          ]
        },
        {
          "output_type": "execute_result",
          "data": {
            "text/plain": [
              "[0.3830925524234772, 0.8576800227165222]"
            ]
          },
          "metadata": {},
          "execution_count": 21
        }
      ]
    },
    {
      "cell_type": "markdown",
      "source": [
        "# Bag-of-word Vectors:"
      ],
      "metadata": {
        "id": "oLJjZ5xh5eiZ"
      }
    },
    {
      "cell_type": "markdown",
      "source": [
        "# Word Embedding\n",
        "A word embedding is a class of approaches for representing words and documents using a\n",
        "dense vector representation. It is an improvement over more the traditional bag-of-word model\n",
        "encoding schemes where large sparse vectors were used to represent each word or to score each\n",
        "word within a vector to represent an entire vocabulary. These representations were sparse\n",
        "because the vocabularies were vast and a given word or document would be represented by a\n",
        "large vector comprised mostly of zero values.\n",
        "Instead, in an embedding, words are represented by dense vectors where a vector represents\n",
        "the projection of the word into a continuous vector space. The position of a word within the\n",
        "vector space is learned from text and is based on the words that surround the word when it is\n",
        "used. The position of a word in the learned vector space is referred to as its embedding. Two\n",
        "popular examples of methods of learning word embeddings from text include:\n",
        "\n",
        "- Word2Vec.\n",
        "- GloVe.\n",
        "In addition to these carefully designed methods, a word embedding can be learned as part\n",
        "of a deep learning model. This can be a slower approach, but tailors the model to a speci\n",
        "c\n",
        "training dataset."
      ],
      "metadata": {
        "id": "4m8Qutof66Bg"
      }
    },
    {
      "cell_type": "markdown",
      "source": [
        "### First: Word2Vec : Bage Of Word Vector Model\n",
        "Note:\n",
        "- Embedding layer can only be indexed with word index\n",
        "\n",
        "__What do we do?__\n",
        "\n",
        "We need to feed actual word indices. In other words, we need to convert word into sequence features."
      ],
      "metadata": {
        "id": "0B02ldAgMKpD"
      }
    },
    {
      "cell_type": "code",
      "source": [
        "vocab_sz=10000\n",
        "tok =Tokenizer(num_words=vocab_sz,oov_token='UNK')\n",
        "tok.fit_on_texts(trn_texts+tst_texts)\n",
        "\n",
        "x_train = tok.texts_to_sequences(trn_texts)\n",
        "x_test = tok.texts_to_sequences(tst_texts)\n",
        "\n",
        "max_len = 100\n",
        "x_train = pad_sequences(x_train,maxlen=max_len)\n",
        "x_test = pad_sequences(x_test,maxlen=max_len)\n",
        "\n",
        "y_train=np.asarray(trn_labels).astype('float32')\n",
        "y_test=np.asarray(tst_labels).astype('float32')\n",
        "\n",
        "# split x_train , y_train into train,val\n",
        "x_train,x_val,y_train,y_val = train_test_split(x_train,y_train,test_size=0.4,random_state=42)\n",
        "\n",
        "print(x_train[0])\n",
        "print(x_train.shape)\n",
        "print(y_train.shape)\n",
        "print(x_val.shape)\n",
        "print(y_val.shape)\n"
      ],
      "metadata": {
        "id": "ekTc4UyT-TF9",
        "colab": {
          "base_uri": "https://localhost:8080/"
        },
        "outputId": "b5742602-cad2-4c35-b3d3-2969a0213124"
      },
      "execution_count": 34,
      "outputs": [
        {
          "output_type": "stream",
          "name": "stdout",
          "text": [
            "[   0    0    0    0    0    0    0    0    0    0    0    0    0    0\n",
            "    0    0    0    0    0    0    0    0    0    0    0    0    0    0\n",
            "    0    0    0    0    0    0    0    0    0    0    0    0    0    0\n",
            "    0    0    0    0    0    0    0    1 1167    9  471  180   36   15\n",
            "   71   45 3344   77 7732 5800 1869 7732 5800  395  356    3  641   22\n",
            "  220  189   82  490    1   14    7  113    1    9   76  491 1300   20\n",
            "  417   20  126  147   99  570   12    1   20  737  803  281 1298  595\n",
            "  230   24]\n",
            "(15000, 100)\n",
            "(15000,)\n",
            "(10000, 100)\n",
            "(10000,)\n"
          ]
        }
      ]
    },
    {
      "cell_type": "code",
      "source": [
        "x_train[1]"
      ],
      "metadata": {
        "colab": {
          "base_uri": "https://localhost:8080/"
        },
        "id": "rdmCfZ_WPq7u",
        "outputId": "5eabf9e5-6e74-4fbe-83a3-a29f1f9109d9"
      },
      "execution_count": 35,
      "outputs": [
        {
          "output_type": "execute_result",
          "data": {
            "text/plain": [
              "array([   0,    0,    0,    0,    0,    0,    0,    0,    0,    0,    0,\n",
              "          0,    0,    0,    0,    0,    0,    0,    0,    0,    0,    0,\n",
              "          0,    0,    0,    0,    0,    0,    0,    0,    0,    0,    0,\n",
              "          0,    0,    0,    0,    0,    0,    0,    0,    0,    0,    0,\n",
              "          0,    0,   18,   36,  183,  173,  297,  103,  841,    1, 2068,\n",
              "        360,  119,  373,  210,  320,  360,   45,   14,   75,  921,    1,\n",
              "          1,   96,  360,  133,    3,    1,    1,  189,  210, 1202,    5,\n",
              "        822,    4,    5,    1,  196,  471,  236, 1426,    1,  335,    1,\n",
              "         75,   11,  887, 3638,   13,  841,  805,    1, 1925,    1,    4,\n",
              "        840], dtype=int32)"
            ]
          },
          "metadata": {},
          "execution_count": 35
        }
      ]
    },
    {
      "cell_type": "markdown",
      "source": [
        "** Build Model **"
      ],
      "metadata": {
        "id": "nXj85NbnOWFY"
      }
    },
    {
      "cell_type": "code",
      "source": [
        "n_latent_factors = 25\n",
        "vocab_sz = 10000\n",
        "\n",
        "model_v =Sequential()\n",
        "model_v.add(Embedding(input_dim=vocab_sz+1,output_dim=n_latent_factors,input_length=max_len,embeddings_regularizer=regularizers.L2(0.01)))\n",
        "model_v.add(Flatten())\n",
        "model_v.add(Dense(16,activation='relu'))\n",
        "model_v.add(Dense(16,activation='relu'))\n",
        "model_v.add(Dense(1,activation='sigmoid'))\n",
        "\n",
        "\n",
        "model_v.compile(optimizer=RMSprop(learning_rate=0.001),\n",
        "              loss='binary_crossentropy',\n",
        "              metrics=[metrics.binary_accuracy])\n",
        "\n",
        "history_v = model_v.fit(x_train,\n",
        "                    y_train,\n",
        "                    epochs=20,\n",
        "                    batch_size=512,\n",
        "                    validation_data=(x_val, y_val))\n",
        "\n",
        "model_v.summary()"
      ],
      "metadata": {
        "colab": {
          "base_uri": "https://localhost:8080/",
          "height": 1000
        },
        "id": "xpjxb2SrOSRE",
        "outputId": "f841dece-d497-4ba2-e80e-ef302f6e0f7d"
      },
      "execution_count": 41,
      "outputs": [
        {
          "output_type": "stream",
          "name": "stdout",
          "text": [
            "Epoch 1/20\n"
          ]
        },
        {
          "output_type": "stream",
          "name": "stderr",
          "text": [
            "/usr/local/lib/python3.10/dist-packages/keras/src/layers/core/embedding.py:90: UserWarning: Argument `input_length` is deprecated. Just remove it.\n",
            "  warnings.warn(\n"
          ]
        },
        {
          "output_type": "stream",
          "name": "stdout",
          "text": [
            "\u001b[1m30/30\u001b[0m \u001b[32m━━━━━━━━━━━━━━━━━━━━\u001b[0m\u001b[37m\u001b[0m \u001b[1m4s\u001b[0m 63ms/step - binary_accuracy: 0.5001 - loss: 1.9833 - val_binary_accuracy: 0.4984 - val_loss: 0.9140\n",
            "Epoch 2/20\n",
            "\u001b[1m30/30\u001b[0m \u001b[32m━━━━━━━━━━━━━━━━━━━━\u001b[0m\u001b[37m\u001b[0m \u001b[1m2s\u001b[0m 40ms/step - binary_accuracy: 0.5228 - loss: 0.8258 - val_binary_accuracy: 0.5683 - val_loss: 0.6941\n",
            "Epoch 3/20\n",
            "\u001b[1m30/30\u001b[0m \u001b[32m━━━━━━━━━━━━━━━━━━━━\u001b[0m\u001b[37m\u001b[0m \u001b[1m1s\u001b[0m 36ms/step - binary_accuracy: 0.6441 - loss: 0.6720 - val_binary_accuracy: 0.7787 - val_loss: 0.6160\n",
            "Epoch 4/20\n",
            "\u001b[1m30/30\u001b[0m \u001b[32m━━━━━━━━━━━━━━━━━━━━\u001b[0m\u001b[37m\u001b[0m \u001b[1m1s\u001b[0m 37ms/step - binary_accuracy: 0.7849 - loss: 0.5876 - val_binary_accuracy: 0.8199 - val_loss: 0.5507\n",
            "Epoch 5/20\n",
            "\u001b[1m30/30\u001b[0m \u001b[32m━━━━━━━━━━━━━━━━━━━━\u001b[0m\u001b[37m\u001b[0m \u001b[1m1s\u001b[0m 16ms/step - binary_accuracy: 0.8431 - loss: 0.5225 - val_binary_accuracy: 0.7751 - val_loss: 0.5331\n",
            "Epoch 6/20\n",
            "\u001b[1m30/30\u001b[0m \u001b[32m━━━━━━━━━━━━━━━━━━━━\u001b[0m\u001b[37m\u001b[0m \u001b[1m1s\u001b[0m 16ms/step - binary_accuracy: 0.8573 - loss: 0.4660 - val_binary_accuracy: 0.8196 - val_loss: 0.4792\n",
            "Epoch 7/20\n",
            "\u001b[1m30/30\u001b[0m \u001b[32m━━━━━━━━━━━━━━━━━━━━\u001b[0m\u001b[37m\u001b[0m \u001b[1m1s\u001b[0m 17ms/step - binary_accuracy: 0.8735 - loss: 0.4158 - val_binary_accuracy: 0.8578 - val_loss: 0.4273\n",
            "Epoch 8/20\n",
            "\u001b[1m30/30\u001b[0m \u001b[32m━━━━━━━━━━━━━━━━━━━━\u001b[0m\u001b[37m\u001b[0m \u001b[1m1s\u001b[0m 17ms/step - binary_accuracy: 0.8952 - loss: 0.3738 - val_binary_accuracy: 0.8552 - val_loss: 0.4170\n",
            "Epoch 9/20\n",
            "\u001b[1m30/30\u001b[0m \u001b[32m━━━━━━━━━━━━━━━━━━━━\u001b[0m\u001b[37m\u001b[0m \u001b[1m1s\u001b[0m 18ms/step - binary_accuracy: 0.8992 - loss: 0.3526 - val_binary_accuracy: 0.8474 - val_loss: 0.4255\n",
            "Epoch 10/20\n",
            "\u001b[1m30/30\u001b[0m \u001b[32m━━━━━━━━━━━━━━━━━━━━\u001b[0m\u001b[37m\u001b[0m \u001b[1m1s\u001b[0m 17ms/step - binary_accuracy: 0.9041 - loss: 0.3362 - val_binary_accuracy: 0.8597 - val_loss: 0.4066\n",
            "Epoch 11/20\n",
            "\u001b[1m30/30\u001b[0m \u001b[32m━━━━━━━━━━━━━━━━━━━━\u001b[0m\u001b[37m\u001b[0m \u001b[1m1s\u001b[0m 17ms/step - binary_accuracy: 0.9062 - loss: 0.3252 - val_binary_accuracy: 0.8458 - val_loss: 0.4291\n",
            "Epoch 12/20\n",
            "\u001b[1m30/30\u001b[0m \u001b[32m━━━━━━━━━━━━━━━━━━━━\u001b[0m\u001b[37m\u001b[0m \u001b[1m1s\u001b[0m 17ms/step - binary_accuracy: 0.9153 - loss: 0.3128 - val_binary_accuracy: 0.8363 - val_loss: 0.4471\n",
            "Epoch 13/20\n",
            "\u001b[1m30/30\u001b[0m \u001b[32m━━━━━━━━━━━━━━━━━━━━\u001b[0m\u001b[37m\u001b[0m \u001b[1m1s\u001b[0m 16ms/step - binary_accuracy: 0.9174 - loss: 0.3042 - val_binary_accuracy: 0.8363 - val_loss: 0.4587\n",
            "Epoch 14/20\n",
            "\u001b[1m30/30\u001b[0m \u001b[32m━━━━━━━━━━━━━━━━━━━━\u001b[0m\u001b[37m\u001b[0m \u001b[1m1s\u001b[0m 17ms/step - binary_accuracy: 0.9197 - loss: 0.2974 - val_binary_accuracy: 0.8419 - val_loss: 0.4434\n",
            "Epoch 15/20\n",
            "\u001b[1m30/30\u001b[0m \u001b[32m━━━━━━━━━━━━━━━━━━━━\u001b[0m\u001b[37m\u001b[0m \u001b[1m1s\u001b[0m 16ms/step - binary_accuracy: 0.9377 - loss: 0.2727 - val_binary_accuracy: 0.8479 - val_loss: 0.4312\n",
            "Epoch 16/20\n",
            "\u001b[1m30/30\u001b[0m \u001b[32m━━━━━━━━━━━━━━━━━━━━\u001b[0m\u001b[37m\u001b[0m \u001b[1m1s\u001b[0m 16ms/step - binary_accuracy: 0.9276 - loss: 0.2836 - val_binary_accuracy: 0.8245 - val_loss: 0.4842\n",
            "Epoch 17/20\n",
            "\u001b[1m30/30\u001b[0m \u001b[32m━━━━━━━━━━━━━━━━━━━━\u001b[0m\u001b[37m\u001b[0m \u001b[1m1s\u001b[0m 17ms/step - binary_accuracy: 0.9386 - loss: 0.2602 - val_binary_accuracy: 0.8530 - val_loss: 0.4276\n",
            "Epoch 18/20\n",
            "\u001b[1m30/30\u001b[0m \u001b[32m━━━━━━━━━━━━━━━━━━━━\u001b[0m\u001b[37m\u001b[0m \u001b[1m1s\u001b[0m 18ms/step - binary_accuracy: 0.9424 - loss: 0.2572 - val_binary_accuracy: 0.8501 - val_loss: 0.4378\n",
            "Epoch 19/20\n",
            "\u001b[1m30/30\u001b[0m \u001b[32m━━━━━━━━━━━━━━━━━━━━\u001b[0m\u001b[37m\u001b[0m \u001b[1m1s\u001b[0m 27ms/step - binary_accuracy: 0.9578 - loss: 0.2308 - val_binary_accuracy: 0.8103 - val_loss: 0.5283\n",
            "Epoch 20/20\n",
            "\u001b[1m30/30\u001b[0m \u001b[32m━━━━━━━━━━━━━━━━━━━━\u001b[0m\u001b[37m\u001b[0m \u001b[1m1s\u001b[0m 28ms/step - binary_accuracy: 0.9582 - loss: 0.2279 - val_binary_accuracy: 0.8291 - val_loss: 0.4914\n"
          ]
        },
        {
          "output_type": "display_data",
          "data": {
            "text/plain": [
              "\u001b[1mModel: \"sequential_11\"\u001b[0m\n"
            ],
            "text/html": [
              "<pre style=\"white-space:pre;overflow-x:auto;line-height:normal;font-family:Menlo,'DejaVu Sans Mono',consolas,'Courier New',monospace\"><span style=\"font-weight: bold\">Model: \"sequential_11\"</span>\n",
              "</pre>\n"
            ]
          },
          "metadata": {}
        },
        {
          "output_type": "display_data",
          "data": {
            "text/plain": [
              "┏━━━━━━━━━━━━━━━━━━━━━━━━━━━━━━━━━━━━━━┳━━━━━━━━━━━━━━━━━━━━━━━━━━━━━┳━━━━━━━━━━━━━━━━━┓\n",
              "┃\u001b[1m \u001b[0m\u001b[1mLayer (type)                        \u001b[0m\u001b[1m \u001b[0m┃\u001b[1m \u001b[0m\u001b[1mOutput Shape               \u001b[0m\u001b[1m \u001b[0m┃\u001b[1m \u001b[0m\u001b[1m        Param #\u001b[0m\u001b[1m \u001b[0m┃\n",
              "┡━━━━━━━━━━━━━━━━━━━━━━━━━━━━━━━━━━━━━━╇━━━━━━━━━━━━━━━━━━━━━━━━━━━━━╇━━━━━━━━━━━━━━━━━┩\n",
              "│ embedding_7 (\u001b[38;5;33mEmbedding\u001b[0m)              │ (\u001b[38;5;45mNone\u001b[0m, \u001b[38;5;34m100\u001b[0m, \u001b[38;5;34m25\u001b[0m)             │         \u001b[38;5;34m250,025\u001b[0m │\n",
              "├──────────────────────────────────────┼─────────────────────────────┼─────────────────┤\n",
              "│ flatten_6 (\u001b[38;5;33mFlatten\u001b[0m)                  │ (\u001b[38;5;45mNone\u001b[0m, \u001b[38;5;34m2500\u001b[0m)                │               \u001b[38;5;34m0\u001b[0m │\n",
              "├──────────────────────────────────────┼─────────────────────────────┼─────────────────┤\n",
              "│ dense_30 (\u001b[38;5;33mDense\u001b[0m)                     │ (\u001b[38;5;45mNone\u001b[0m, \u001b[38;5;34m16\u001b[0m)                  │          \u001b[38;5;34m40,016\u001b[0m │\n",
              "├──────────────────────────────────────┼─────────────────────────────┼─────────────────┤\n",
              "│ dense_31 (\u001b[38;5;33mDense\u001b[0m)                     │ (\u001b[38;5;45mNone\u001b[0m, \u001b[38;5;34m16\u001b[0m)                  │             \u001b[38;5;34m272\u001b[0m │\n",
              "├──────────────────────────────────────┼─────────────────────────────┼─────────────────┤\n",
              "│ dense_32 (\u001b[38;5;33mDense\u001b[0m)                     │ (\u001b[38;5;45mNone\u001b[0m, \u001b[38;5;34m1\u001b[0m)                   │              \u001b[38;5;34m17\u001b[0m │\n",
              "└──────────────────────────────────────┴─────────────────────────────┴─────────────────┘\n"
            ],
            "text/html": [
              "<pre style=\"white-space:pre;overflow-x:auto;line-height:normal;font-family:Menlo,'DejaVu Sans Mono',consolas,'Courier New',monospace\">┏━━━━━━━━━━━━━━━━━━━━━━━━━━━━━━━━━━━━━━┳━━━━━━━━━━━━━━━━━━━━━━━━━━━━━┳━━━━━━━━━━━━━━━━━┓\n",
              "┃<span style=\"font-weight: bold\"> Layer (type)                         </span>┃<span style=\"font-weight: bold\"> Output Shape                </span>┃<span style=\"font-weight: bold\">         Param # </span>┃\n",
              "┡━━━━━━━━━━━━━━━━━━━━━━━━━━━━━━━━━━━━━━╇━━━━━━━━━━━━━━━━━━━━━━━━━━━━━╇━━━━━━━━━━━━━━━━━┩\n",
              "│ embedding_7 (<span style=\"color: #0087ff; text-decoration-color: #0087ff\">Embedding</span>)              │ (<span style=\"color: #00d7ff; text-decoration-color: #00d7ff\">None</span>, <span style=\"color: #00af00; text-decoration-color: #00af00\">100</span>, <span style=\"color: #00af00; text-decoration-color: #00af00\">25</span>)             │         <span style=\"color: #00af00; text-decoration-color: #00af00\">250,025</span> │\n",
              "├──────────────────────────────────────┼─────────────────────────────┼─────────────────┤\n",
              "│ flatten_6 (<span style=\"color: #0087ff; text-decoration-color: #0087ff\">Flatten</span>)                  │ (<span style=\"color: #00d7ff; text-decoration-color: #00d7ff\">None</span>, <span style=\"color: #00af00; text-decoration-color: #00af00\">2500</span>)                │               <span style=\"color: #00af00; text-decoration-color: #00af00\">0</span> │\n",
              "├──────────────────────────────────────┼─────────────────────────────┼─────────────────┤\n",
              "│ dense_30 (<span style=\"color: #0087ff; text-decoration-color: #0087ff\">Dense</span>)                     │ (<span style=\"color: #00d7ff; text-decoration-color: #00d7ff\">None</span>, <span style=\"color: #00af00; text-decoration-color: #00af00\">16</span>)                  │          <span style=\"color: #00af00; text-decoration-color: #00af00\">40,016</span> │\n",
              "├──────────────────────────────────────┼─────────────────────────────┼─────────────────┤\n",
              "│ dense_31 (<span style=\"color: #0087ff; text-decoration-color: #0087ff\">Dense</span>)                     │ (<span style=\"color: #00d7ff; text-decoration-color: #00d7ff\">None</span>, <span style=\"color: #00af00; text-decoration-color: #00af00\">16</span>)                  │             <span style=\"color: #00af00; text-decoration-color: #00af00\">272</span> │\n",
              "├──────────────────────────────────────┼─────────────────────────────┼─────────────────┤\n",
              "│ dense_32 (<span style=\"color: #0087ff; text-decoration-color: #0087ff\">Dense</span>)                     │ (<span style=\"color: #00d7ff; text-decoration-color: #00d7ff\">None</span>, <span style=\"color: #00af00; text-decoration-color: #00af00\">1</span>)                   │              <span style=\"color: #00af00; text-decoration-color: #00af00\">17</span> │\n",
              "└──────────────────────────────────────┴─────────────────────────────┴─────────────────┘\n",
              "</pre>\n"
            ]
          },
          "metadata": {}
        },
        {
          "output_type": "display_data",
          "data": {
            "text/plain": [
              "\u001b[1m Total params: \u001b[0m\u001b[38;5;34m580,662\u001b[0m (2.22 MB)\n"
            ],
            "text/html": [
              "<pre style=\"white-space:pre;overflow-x:auto;line-height:normal;font-family:Menlo,'DejaVu Sans Mono',consolas,'Courier New',monospace\"><span style=\"font-weight: bold\"> Total params: </span><span style=\"color: #00af00; text-decoration-color: #00af00\">580,662</span> (2.22 MB)\n",
              "</pre>\n"
            ]
          },
          "metadata": {}
        },
        {
          "output_type": "display_data",
          "data": {
            "text/plain": [
              "\u001b[1m Trainable params: \u001b[0m\u001b[38;5;34m290,330\u001b[0m (1.11 MB)\n"
            ],
            "text/html": [
              "<pre style=\"white-space:pre;overflow-x:auto;line-height:normal;font-family:Menlo,'DejaVu Sans Mono',consolas,'Courier New',monospace\"><span style=\"font-weight: bold\"> Trainable params: </span><span style=\"color: #00af00; text-decoration-color: #00af00\">290,330</span> (1.11 MB)\n",
              "</pre>\n"
            ]
          },
          "metadata": {}
        },
        {
          "output_type": "display_data",
          "data": {
            "text/plain": [
              "\u001b[1m Non-trainable params: \u001b[0m\u001b[38;5;34m0\u001b[0m (0.00 B)\n"
            ],
            "text/html": [
              "<pre style=\"white-space:pre;overflow-x:auto;line-height:normal;font-family:Menlo,'DejaVu Sans Mono',consolas,'Courier New',monospace\"><span style=\"font-weight: bold\"> Non-trainable params: </span><span style=\"color: #00af00; text-decoration-color: #00af00\">0</span> (0.00 B)\n",
              "</pre>\n"
            ]
          },
          "metadata": {}
        },
        {
          "output_type": "display_data",
          "data": {
            "text/plain": [
              "\u001b[1m Optimizer params: \u001b[0m\u001b[38;5;34m290,332\u001b[0m (1.11 MB)\n"
            ],
            "text/html": [
              "<pre style=\"white-space:pre;overflow-x:auto;line-height:normal;font-family:Menlo,'DejaVu Sans Mono',consolas,'Courier New',monospace\"><span style=\"font-weight: bold\"> Optimizer params: </span><span style=\"color: #00af00; text-decoration-color: #00af00\">290,332</span> (1.11 MB)\n",
              "</pre>\n"
            ]
          },
          "metadata": {}
        }
      ]
    },
    {
      "cell_type": "code",
      "source": [
        "acc = history_v.history['binary_accuracy']\n",
        "val_acc = history_v.history['val_binary_accuracy']\n",
        "loss = history_v.history['loss']\n",
        "val_loss = history_v.history['val_loss']\n",
        "\n",
        "epocs=range(1,len(acc)+1)\n",
        "\n",
        "plt.plot(epocs,loss,'bo',label='Training loss')\n",
        "plt.plot(epocs,val_loss,'b',label='Validation loss')\n",
        "plt.title('Training and validation loss')\n",
        "plt.xlabel('Epochs')\n",
        "plt.ylabel('Loss')\n",
        "plt.legend()\n",
        "\n",
        "plt.show()\n",
        "\n",
        "\n"
      ],
      "metadata": {
        "colab": {
          "base_uri": "https://localhost:8080/",
          "height": 472
        },
        "id": "kDl0nmF7XGEh",
        "outputId": "b30e80a5-4a37-4a6c-edfb-4642270731f3"
      },
      "execution_count": 42,
      "outputs": [
        {
          "output_type": "display_data",
          "data": {
            "text/plain": [
              "<Figure size 640x480 with 1 Axes>"
            ],
            "image/png": "[encoded data removed]"
          },
          "metadata": {}
        }
      ]
    },
    {
      "cell_type": "code",
      "source": [
        "plt.plot(epocs,acc,'bo',label='Training acc')\n",
        "plt.plot(epocs,val_acc,'b',label='Validation acc')\n",
        "plt.title('Training and validation accuracy')\n",
        "plt.xlabel('Epochs')\n",
        "plt.ylabel('Accuracy')\n",
        "plt.legend()\n",
        "plt.show()\n",
        "#"
      ],
      "metadata": {
        "colab": {
          "base_uri": "https://localhost:8080/",
          "height": 472
        },
        "id": "OT3Y_4M9XXTe",
        "outputId": "bcbb8266-dee2-4c32-8d56-ed9ed71c0905"
      },
      "execution_count": 43,
      "outputs": [
        {
          "output_type": "display_data",
          "data": {
            "text/plain": [
              "<Figure size 640x480 with 1 Axes>"
            ],
            "image/png": "[encoded data removed]"
          },
          "metadata": {}
        }
      ]
    },
    {
      "cell_type": "code",
      "source": [
        "plot_model(model_v, to_file='model_plot.png', show_shapes=True, show_layer_names=True,dpi=60)"
      ],
      "metadata": {
        "colab": {
          "base_uri": "https://localhost:8080/",
          "height": 494
        },
        "id": "RpOG9om_XnhE",
        "outputId": "503a3f00-203b-4635-bf04-d1028e359d5d"
      },
      "execution_count": 50,
      "outputs": [
        {
          "output_type": "execute_result",
          "data": {
            "image/png": "[encoded data removed]",
            "text/plain": [
              "<IPython.core.display.Image object>"
            ]
          },
          "metadata": {},
          "execution_count": 50
        }
      ]
    },
    {
      "cell_type": "markdown",
      "source": [
        "# Pre-trained word Embeddings\n",
        "\n",
        "In the above setting, we used a _learnable_ `Embedding` layer, which updates its ___randomly___ initialized weights, from the task at hand.\n",
        "\n",
        "Another approach would be to load some pre-trained word vectors, that are trained on some other useful task in NLP, and then use those pre-trained vectors to initialize our Embedding table vectors.\n",
        "\n",
        "One of the popular pre-trained embeddings is _GloVe_"
      ],
      "metadata": {
        "id": "uxF7mpc4ZfnV"
      }
    },
    {
      "cell_type": "markdown",
      "source": [
        "# Loading GloVe"
      ],
      "metadata": {
        "id": "TvGMy5kSZ3U0"
      }
    },
    {
      "cell_type": "markdown",
      "source": [
        "The Keras Embedding layer can also use a word embedding learned elsewhere. It is common in the NLP to learn, save, and make freely available word\n",
        "embeddings. For example, the researchers behind GloVe method provide a suite of pre-trained word embeddings on their website released under a public domain license."
      ],
      "metadata": {
        "id": "S3TYF4TLbOQR"
      }
    },
    {
      "cell_type": "markdown",
      "source": [
        "__Load embeddings for your vocab__\n",
        "\n",
        "We need to create a matrix of one embedding for each word in the training\n",
        "dataset. We can do that by enumerating all unique words in the Tokenizer.word index and\n",
        "locating the embedding weight vector from the loaded GloVe embedding. The result is a matrix\n",
        "of weights only for words we will see during training.\n",
        "\n",
        "```\n",
        "# create a weight matrix for words in training docs\n",
        "embedding_matrix = zeros((vocab_size, 100))\n",
        "for word, i in t.word_index.items():\n",
        "  embedding_vector = embeddings_index.get(word)\n",
        "  if embedding_vector is not None:\n",
        "    embedding_matrix[i] = embedding_vector\n",
        "```"
      ],
      "metadata": {
        "id": "U3EGpYUPbQKs"
      }
    },
    {
      "cell_type": "markdown",
      "source": [
        "Now we can de\fne our model, \ft, and evaluate it as before. The key di\u000berence is that\n",
        "the Embedding layer can be seeded with the GloVe word embedding weights. We chose the\n",
        "100-dimensional version, therefore the Embedding layer must be de\fned with output dim set to\n",
        "100. Finally, we do not want to update the learned word weights in this model, therefore we\n",
        "will set the trainable attribute for the model to be False.\n",
        "\n",
        "```\n",
        "e = Embedding(vocab_size, 100, weights=[embedding_matrix], input_length=4, trainable=False)\n",
        "```"
      ],
      "metadata": {
        "id": "OqFKEJ43ba83"
      }
    },
    {
      "cell_type": "code",
      "source": [
        "!wget http://nlp.stanford.edu/data/glove.6B.zip\n",
        "!unzip glove.6B.zip"
      ],
      "metadata": {
        "colab": {
          "base_uri": "https://localhost:8080/"
        },
        "id": "RxMHBVkJbaCS",
        "outputId": "c2a7c2ee-e46e-4acf-cab8-7a037bb93673"
      },
      "execution_count": 51,
      "outputs": [
        {
          "output_type": "stream",
          "name": "stdout",
          "text": [
            "--2024-11-26 17:12:25--  http://nlp.stanford.edu/data/glove.6B.zip\n",
            "Resolving nlp.stanford.edu (nlp.stanford.edu)... 171.64.67.140\n",
            "Connecting to nlp.stanford.edu (nlp.stanford.edu)|171.64.67.140|:80... connected.\n",
            "HTTP request sent, awaiting response... 302 Found\n",
            "Location: https://nlp.stanford.edu/data/glove.6B.zip [following]\n",
            "--2024-11-26 17:12:25--  https://nlp.stanford.edu/data/glove.6B.zip\n",
            "Connecting to nlp.stanford.edu (nlp.stanford.edu)|171.64.67.140|:443... connected.\n",
            "HTTP request sent, awaiting response... 301 Moved Permanently\n",
            "Location: https://downloads.cs.stanford.edu/nlp/data/glove.6B.zip [following]\n",
            "--2024-11-26 17:12:25--  https://downloads.cs.stanford.edu/nlp/data/glove.6B.zip\n",
            "Resolving downloads.cs.stanford.edu (downloads.cs.stanford.edu)... 171.64.64.22\n",
            "Connecting to downloads.cs.stanford.edu (downloads.cs.stanford.edu)|171.64.64.22|:443... connected.\n",
            "HTTP request sent, awaiting response... 200 OK\n",
            "Length: 862182613 (822M) [application/zip]\n",
            "Saving to: ‘glove.6B.zip’\n",
            "\n",
            "glove.6B.zip        100%[===================>] 822.24M  4.99MB/s    in 2m 39s  \n",
            "\n",
            "2024-11-26 17:15:04 (5.18 MB/s) - ‘glove.6B.zip’ saved [862182613/862182613]\n",
            "\n",
            "Archive:  glove.6B.zip\n",
            "  inflating: glove.6B.50d.txt        \n",
            "  inflating: glove.6B.100d.txt       \n",
            "  inflating: glove.6B.200d.txt       \n",
            "  inflating: glove.6B.300d.txt       \n"
          ]
        }
      ]
    },
    {
      "cell_type": "code",
      "source": [
        "vocab_sz=10000\n",
        "\n",
        "tok =Tokenizer(num_words=vocab_sz,oov_token='UNK')\n",
        "tok.fit_on_texts(trn_texts+tst_texts)\n",
        "\n",
        "x_train = tok.texts_to_sequences(trn_texts)\n",
        "x_test = tok.texts_to_sequences(tst_texts)\n",
        "\n",
        "max_len = 100\n",
        "x_train = pad_sequences(x_train,maxlen=max_len)\n",
        "x_test = pad_sequences(x_test,maxlen=max_len)\n",
        "\n",
        "y_train=np.asarray(trn_labels).astype('float32')\n",
        "y_test=np.asarray(tst_labels).astype('float32')\n",
        "\n",
        "# split x_train , y_train into train,val\n",
        "x_train,x_val,y_train,y_val = train_test_split(x_train,y_train,test_size=0.4,random_state=42)\n",
        "\n",
        "\n"
      ],
      "metadata": {
        "id": "nyfzkYMfYgTP"
      },
      "execution_count": 52,
      "outputs": []
    },
    {
      "cell_type": "code",
      "source": [
        "# load the whole embedding into memory\n",
        "embeddings_index = dict()\n",
        "f = open('glove.6B.100d.txt', mode='rt', encoding='utf-8')\n",
        "for line in f:\n",
        "  values = line.split()\n",
        "  word = values[0]\n",
        "  coefs = np.asarray(values[1:], dtype='float32')\n",
        "  embeddings_index[word] = coefs\n",
        "f.close()\n",
        "print('Loaded %s word vectors.' % len(embeddings_index))"
      ],
      "metadata": {
        "colab": {
          "base_uri": "https://localhost:8080/"
        },
        "id": "QfQ_D_uEg39j",
        "outputId": "1c888d8d-10d8-49e7-8444-003681ec097a"
      },
      "execution_count": 53,
      "outputs": [
        {
          "output_type": "stream",
          "name": "stdout",
          "text": [
            "Loaded 400000 word vectors.\n"
          ]
        }
      ]
    },
    {
      "cell_type": "code",
      "source": [
        "# create a weight matrix for words in training docs\n",
        "vocab_size =len(tok.word_index)+1\n",
        "embedding_matrix = np.zeros((vocab_size, 100))\n",
        "for word, i in tok.word_index.items():\n",
        "  embedding_vector = embeddings_index.get(word)\n",
        "  if embedding_vector is not None:\n",
        "    embedding_matrix[i] = embedding_vector"
      ],
      "metadata": {
        "id": "-uPTHz14iCyf"
      },
      "execution_count": 57,
      "outputs": []
    },
    {
      "cell_type": "code",
      "source": [
        "# define model\n",
        "model = Sequential()\n",
        "model.add(Embedding(vocab_size, 100, weights=[embedding_matrix], input_length=max_len,trainable=False))  # no train on embedding paramaters\n",
        "model.add(Flatten())\n",
        "model.add(Dense(16, activation='relu'))\n",
        "model.add(Dense(16, activation='relu'))\n",
        "model.add(Dense(1, activation='sigmoid'))\n",
        "\n",
        "# compile the model\n",
        "model.compile(optimizer='adam', loss='binary_crossentropy', metrics=['acc'])\n",
        "\n",
        "# fit the model\n",
        "history = model.fit(x_train,y_train,epochs=20,validation_data=(x_val,y_val))\n",
        "\n",
        "# summarize the model\n",
        "model.summary()\n",
        "\n",
        "# evaluate the model\n",
        "loss, accuracy = model.evaluate(x_test, y_test)\n",
        "\n",
        "print('Accuracy: %f' % (accuracy*100))"
      ],
      "metadata": {
        "colab": {
          "base_uri": "https://localhost:8080/",
          "height": 1000
        },
        "id": "lLk6t7L5kqYp",
        "outputId": "36390be9-02e8-4ef1-d7b4-acfabba7d70b"
      },
      "execution_count": 62,
      "outputs": [
        {
          "output_type": "stream",
          "name": "stderr",
          "text": [
            "/usr/local/lib/python3.10/dist-packages/keras/src/layers/core/embedding.py:90: UserWarning: Argument `input_length` is deprecated. Just remove it.\n",
            "  warnings.warn(\n"
          ]
        },
        {
          "output_type": "stream",
          "name": "stdout",
          "text": [
            "Epoch 1/20\n",
            "\u001b[1m469/469\u001b[0m \u001b[32m━━━━━━━━━━━━━━━━━━━━\u001b[0m\u001b[37m\u001b[0m \u001b[1m7s\u001b[0m 10ms/step - acc: 0.6530 - loss: 0.6198 - val_acc: 0.7418 - val_loss: 0.5210\n",
            "Epoch 2/20\n",
            "\u001b[1m469/469\u001b[0m \u001b[32m━━━━━━━━━━━━━━━━━━━━\u001b[0m\u001b[37m\u001b[0m \u001b[1m3s\u001b[0m 5ms/step - acc: 0.8155 - loss: 0.4097 - val_acc: 0.7417 - val_loss: 0.5438\n",
            "Epoch 3/20\n",
            "\u001b[1m469/469\u001b[0m \u001b[32m━━━━━━━━━━━━━━━━━━━━\u001b[0m\u001b[37m\u001b[0m \u001b[1m5s\u001b[0m 5ms/step - acc: 0.8585 - loss: 0.3216 - val_acc: 0.7243 - val_loss: 0.5989\n",
            "Epoch 4/20\n",
            "\u001b[1m469/469\u001b[0m \u001b[32m━━━━━━━━━━━━━━━━━━━━\u001b[0m\u001b[37m\u001b[0m \u001b[1m3s\u001b[0m 5ms/step - acc: 0.9087 - loss: 0.2342 - val_acc: 0.7234 - val_loss: 0.6508\n",
            "Epoch 5/20\n",
            "\u001b[1m469/469\u001b[0m \u001b[32m━━━━━━━━━━━━━━━━━━━━\u001b[0m\u001b[37m\u001b[0m \u001b[1m4s\u001b[0m 9ms/step - acc: 0.9447 - loss: 0.1594 - val_acc: 0.7168 - val_loss: 0.8557\n",
            "Epoch 6/20\n",
            "\u001b[1m469/469\u001b[0m \u001b[32m━━━━━━━━━━━━━━━━━━━━\u001b[0m\u001b[37m\u001b[0m \u001b[1m5s\u001b[0m 10ms/step - acc: 0.9760 - loss: 0.0895 - val_acc: 0.7014 - val_loss: 1.0197\n",
            "Epoch 7/20\n",
            "\u001b[1m469/469\u001b[0m \u001b[32m━━━━━━━━━━━━━━━━━━━━\u001b[0m\u001b[37m\u001b[0m \u001b[1m5s\u001b[0m 9ms/step - acc: 0.9829 - loss: 0.0579 - val_acc: 0.7001 - val_loss: 1.2251\n",
            "Epoch 8/20\n",
            "\u001b[1m469/469\u001b[0m \u001b[32m━━━━━━━━━━━━━━━━━━━━\u001b[0m\u001b[37m\u001b[0m \u001b[1m3s\u001b[0m 5ms/step - acc: 0.9912 - loss: 0.0344 - val_acc: 0.7039 - val_loss: 1.3581\n",
            "Epoch 9/20\n",
            "\u001b[1m469/469\u001b[0m \u001b[32m━━━━━━━━━━━━━━━━━━━━\u001b[0m\u001b[37m\u001b[0m \u001b[1m2s\u001b[0m 5ms/step - acc: 0.9961 - loss: 0.0199 - val_acc: 0.7082 - val_loss: 1.5352\n",
            "Epoch 10/20\n",
            "\u001b[1m469/469\u001b[0m \u001b[32m━━━━━━━━━━━━━━━━━━━━\u001b[0m\u001b[37m\u001b[0m \u001b[1m2s\u001b[0m 5ms/step - acc: 0.9968 - loss: 0.0149 - val_acc: 0.7063 - val_loss: 1.6266\n",
            "Epoch 11/20\n",
            "\u001b[1m469/469\u001b[0m \u001b[32m━━━━━━━━━━━━━━━━━━━━\u001b[0m\u001b[37m\u001b[0m \u001b[1m5s\u001b[0m 11ms/step - acc: 0.9827 - loss: 0.0479 - val_acc: 0.6932 - val_loss: 1.7954\n",
            "Epoch 12/20\n",
            "\u001b[1m469/469\u001b[0m \u001b[32m━━━━━━━━━━━━━━━━━━━━\u001b[0m\u001b[37m\u001b[0m \u001b[1m5s\u001b[0m 10ms/step - acc: 0.9851 - loss: 0.0418 - val_acc: 0.7080 - val_loss: 1.8125\n",
            "Epoch 13/20\n",
            "\u001b[1m469/469\u001b[0m \u001b[32m━━━━━━━━━━━━━━━━━━━━\u001b[0m\u001b[37m\u001b[0m \u001b[1m4s\u001b[0m 9ms/step - acc: 0.9950 - loss: 0.0186 - val_acc: 0.7021 - val_loss: 1.8360\n",
            "Epoch 14/20\n",
            "\u001b[1m469/469\u001b[0m \u001b[32m━━━━━━━━━━━━━━━━━━━━\u001b[0m\u001b[37m\u001b[0m \u001b[1m3s\u001b[0m 5ms/step - acc: 0.9995 - loss: 0.0052 - val_acc: 0.7038 - val_loss: 1.9282\n",
            "Epoch 15/20\n",
            "\u001b[1m469/469\u001b[0m \u001b[32m━━━━━━━━━━━━━━━━━━━━\u001b[0m\u001b[37m\u001b[0m \u001b[1m2s\u001b[0m 5ms/step - acc: 1.0000 - loss: 0.0020 - val_acc: 0.7061 - val_loss: 2.0171\n",
            "Epoch 16/20\n",
            "\u001b[1m469/469\u001b[0m \u001b[32m━━━━━━━━━━━━━━━━━━━━\u001b[0m\u001b[37m\u001b[0m \u001b[1m3s\u001b[0m 5ms/step - acc: 1.0000 - loss: 0.0011 - val_acc: 0.7066 - val_loss: 2.0803\n",
            "Epoch 17/20\n",
            "\u001b[1m469/469\u001b[0m \u001b[32m━━━━━━━━━━━━━━━━━━━━\u001b[0m\u001b[37m\u001b[0m \u001b[1m3s\u001b[0m 7ms/step - acc: 1.0000 - loss: 7.5664e-04 - val_acc: 0.7066 - val_loss: 2.1330\n",
            "Epoch 18/20\n",
            "\u001b[1m469/469\u001b[0m \u001b[32m━━━━━━━━━━━━━━━━━━━━\u001b[0m\u001b[37m\u001b[0m \u001b[1m5s\u001b[0m 10ms/step - acc: 1.0000 - loss: 6.3581e-04 - val_acc: 0.7068 - val_loss: 2.1848\n",
            "Epoch 19/20\n",
            "\u001b[1m469/469\u001b[0m \u001b[32m━━━━━━━━━━━━━━━━━━━━\u001b[0m\u001b[37m\u001b[0m \u001b[1m6s\u001b[0m 11ms/step - acc: 1.0000 - loss: 5.6208e-04 - val_acc: 0.7061 - val_loss: 2.1912\n",
            "Epoch 20/20\n",
            "\u001b[1m469/469\u001b[0m \u001b[32m━━━━━━━━━━━━━━━━━━━━\u001b[0m\u001b[37m\u001b[0m \u001b[1m7s\u001b[0m 5ms/step - acc: 0.9999 - loss: 8.6998e-04 - val_acc: 0.7060 - val_loss: 2.2749\n"
          ]
        },
        {
          "output_type": "display_data",
          "data": {
            "text/plain": [
              "\u001b[1mModel: \"sequential_15\"\u001b[0m\n"
            ],
            "text/html": [
              "<pre style=\"white-space:pre;overflow-x:auto;line-height:normal;font-family:Menlo,'DejaVu Sans Mono',consolas,'Courier New',monospace\"><span style=\"font-weight: bold\">Model: \"sequential_15\"</span>\n",
              "</pre>\n"
            ]
          },
          "metadata": {}
        },
        {
          "output_type": "display_data",
          "data": {
            "text/plain": [
              "┏━━━━━━━━━━━━━━━━━━━━━━━━━━━━━━━━━━━━━━┳━━━━━━━━━━━━━━━━━━━━━━━━━━━━━┳━━━━━━━━━━━━━━━━━┓\n",
              "┃\u001b[1m \u001b[0m\u001b[1mLayer (type)                        \u001b[0m\u001b[1m \u001b[0m┃\u001b[1m \u001b[0m\u001b[1mOutput Shape               \u001b[0m\u001b[1m \u001b[0m┃\u001b[1m \u001b[0m\u001b[1m        Param #\u001b[0m\u001b[1m \u001b[0m┃\n",
              "┡━━━━━━━━━━━━━━━━━━━━━━━━━━━━━━━━━━━━━━╇━━━━━━━━━━━━━━━━━━━━━━━━━━━━━╇━━━━━━━━━━━━━━━━━┩\n",
              "│ embedding_11 (\u001b[38;5;33mEmbedding\u001b[0m)             │ (\u001b[38;5;45mNone\u001b[0m, \u001b[38;5;34m100\u001b[0m, \u001b[38;5;34m100\u001b[0m)            │      \u001b[38;5;34m14,107,000\u001b[0m │\n",
              "├──────────────────────────────────────┼─────────────────────────────┼─────────────────┤\n",
              "│ flatten_10 (\u001b[38;5;33mFlatten\u001b[0m)                 │ (\u001b[38;5;45mNone\u001b[0m, \u001b[38;5;34m10000\u001b[0m)               │               \u001b[38;5;34m0\u001b[0m │\n",
              "├──────────────────────────────────────┼─────────────────────────────┼─────────────────┤\n",
              "│ dense_42 (\u001b[38;5;33mDense\u001b[0m)                     │ (\u001b[38;5;45mNone\u001b[0m, \u001b[38;5;34m16\u001b[0m)                  │         \u001b[38;5;34m160,016\u001b[0m │\n",
              "├──────────────────────────────────────┼─────────────────────────────┼─────────────────┤\n",
              "│ dense_43 (\u001b[38;5;33mDense\u001b[0m)                     │ (\u001b[38;5;45mNone\u001b[0m, \u001b[38;5;34m16\u001b[0m)                  │             \u001b[38;5;34m272\u001b[0m │\n",
              "├──────────────────────────────────────┼─────────────────────────────┼─────────────────┤\n",
              "│ dense_44 (\u001b[38;5;33mDense\u001b[0m)                     │ (\u001b[38;5;45mNone\u001b[0m, \u001b[38;5;34m1\u001b[0m)                   │              \u001b[38;5;34m17\u001b[0m │\n",
              "└──────────────────────────────────────┴─────────────────────────────┴─────────────────┘\n"
            ],
            "text/html": [
              "<pre style=\"white-space:pre;overflow-x:auto;line-height:normal;font-family:Menlo,'DejaVu Sans Mono',consolas,'Courier New',monospace\">┏━━━━━━━━━━━━━━━━━━━━━━━━━━━━━━━━━━━━━━┳━━━━━━━━━━━━━━━━━━━━━━━━━━━━━┳━━━━━━━━━━━━━━━━━┓\n",
              "┃<span style=\"font-weight: bold\"> Layer (type)                         </span>┃<span style=\"font-weight: bold\"> Output Shape                </span>┃<span style=\"font-weight: bold\">         Param # </span>┃\n",
              "┡━━━━━━━━━━━━━━━━━━━━━━━━━━━━━━━━━━━━━━╇━━━━━━━━━━━━━━━━━━━━━━━━━━━━━╇━━━━━━━━━━━━━━━━━┩\n",
              "│ embedding_11 (<span style=\"color: #0087ff; text-decoration-color: #0087ff\">Embedding</span>)             │ (<span style=\"color: #00d7ff; text-decoration-color: #00d7ff\">None</span>, <span style=\"color: #00af00; text-decoration-color: #00af00\">100</span>, <span style=\"color: #00af00; text-decoration-color: #00af00\">100</span>)            │      <span style=\"color: #00af00; text-decoration-color: #00af00\">14,107,000</span> │\n",
              "├──────────────────────────────────────┼─────────────────────────────┼─────────────────┤\n",
              "│ flatten_10 (<span style=\"color: #0087ff; text-decoration-color: #0087ff\">Flatten</span>)                 │ (<span style=\"color: #00d7ff; text-decoration-color: #00d7ff\">None</span>, <span style=\"color: #00af00; text-decoration-color: #00af00\">10000</span>)               │               <span style=\"color: #00af00; text-decoration-color: #00af00\">0</span> │\n",
              "├──────────────────────────────────────┼─────────────────────────────┼─────────────────┤\n",
              "│ dense_42 (<span style=\"color: #0087ff; text-decoration-color: #0087ff\">Dense</span>)                     │ (<span style=\"color: #00d7ff; text-decoration-color: #00d7ff\">None</span>, <span style=\"color: #00af00; text-decoration-color: #00af00\">16</span>)                  │         <span style=\"color: #00af00; text-decoration-color: #00af00\">160,016</span> │\n",
              "├──────────────────────────────────────┼─────────────────────────────┼─────────────────┤\n",
              "│ dense_43 (<span style=\"color: #0087ff; text-decoration-color: #0087ff\">Dense</span>)                     │ (<span style=\"color: #00d7ff; text-decoration-color: #00d7ff\">None</span>, <span style=\"color: #00af00; text-decoration-color: #00af00\">16</span>)                  │             <span style=\"color: #00af00; text-decoration-color: #00af00\">272</span> │\n",
              "├──────────────────────────────────────┼─────────────────────────────┼─────────────────┤\n",
              "│ dense_44 (<span style=\"color: #0087ff; text-decoration-color: #0087ff\">Dense</span>)                     │ (<span style=\"color: #00d7ff; text-decoration-color: #00d7ff\">None</span>, <span style=\"color: #00af00; text-decoration-color: #00af00\">1</span>)                   │              <span style=\"color: #00af00; text-decoration-color: #00af00\">17</span> │\n",
              "└──────────────────────────────────────┴─────────────────────────────┴─────────────────┘\n",
              "</pre>\n"
            ]
          },
          "metadata": {}
        },
        {
          "output_type": "display_data",
          "data": {
            "text/plain": [
              "\u001b[1m Total params: \u001b[0m\u001b[38;5;34m14,587,917\u001b[0m (55.65 MB)\n"
            ],
            "text/html": [
              "<pre style=\"white-space:pre;overflow-x:auto;line-height:normal;font-family:Menlo,'DejaVu Sans Mono',consolas,'Courier New',monospace\"><span style=\"font-weight: bold\"> Total params: </span><span style=\"color: #00af00; text-decoration-color: #00af00\">14,587,917</span> (55.65 MB)\n",
              "</pre>\n"
            ]
          },
          "metadata": {}
        },
        {
          "output_type": "display_data",
          "data": {
            "text/plain": [
              "\u001b[1m Trainable params: \u001b[0m\u001b[38;5;34m160,305\u001b[0m (626.19 KB)\n"
            ],
            "text/html": [
              "<pre style=\"white-space:pre;overflow-x:auto;line-height:normal;font-family:Menlo,'DejaVu Sans Mono',consolas,'Courier New',monospace\"><span style=\"font-weight: bold\"> Trainable params: </span><span style=\"color: #00af00; text-decoration-color: #00af00\">160,305</span> (626.19 KB)\n",
              "</pre>\n"
            ]
          },
          "metadata": {}
        },
        {
          "output_type": "display_data",
          "data": {
            "text/plain": [
              "\u001b[1m Non-trainable params: \u001b[0m\u001b[38;5;34m14,107,000\u001b[0m (53.81 MB)\n"
            ],
            "text/html": [
              "<pre style=\"white-space:pre;overflow-x:auto;line-height:normal;font-family:Menlo,'DejaVu Sans Mono',consolas,'Courier New',monospace\"><span style=\"font-weight: bold\"> Non-trainable params: </span><span style=\"color: #00af00; text-decoration-color: #00af00\">14,107,000</span> (53.81 MB)\n",
              "</pre>\n"
            ]
          },
          "metadata": {}
        },
        {
          "output_type": "display_data",
          "data": {
            "text/plain": [
              "\u001b[1m Optimizer params: \u001b[0m\u001b[38;5;34m320,612\u001b[0m (1.22 MB)\n"
            ],
            "text/html": [
              "<pre style=\"white-space:pre;overflow-x:auto;line-height:normal;font-family:Menlo,'DejaVu Sans Mono',consolas,'Courier New',monospace\"><span style=\"font-weight: bold\"> Optimizer params: </span><span style=\"color: #00af00; text-decoration-color: #00af00\">320,612</span> (1.22 MB)\n",
              "</pre>\n"
            ]
          },
          "metadata": {}
        },
        {
          "output_type": "stream",
          "name": "stdout",
          "text": [
            "\u001b[1m782/782\u001b[0m \u001b[32m━━━━━━━━━━━━━━━━━━━━\u001b[0m\u001b[37m\u001b[0m \u001b[1m1s\u001b[0m 2ms/step - acc: 0.7031 - loss: 2.2984\n",
            "Accuracy: 71.395999\n"
          ]
        }
      ]
    },
    {
      "cell_type": "code",
      "source": [
        "acc = history.history['acc']\n",
        "val_acc = history.history['val_acc']\n",
        "loss = history.history['loss']\n",
        "val_loss = history.history['val_loss']\n",
        "\n",
        "epochs = range(1, len(acc) + 1)\n",
        "\n",
        "# \"bo\" is for \"blue dot\"\n",
        "plt.plot(epochs, loss, 'bo', label='Training loss')\n",
        "# b is for \"solid blue line\"\n",
        "plt.plot(epochs, val_loss, 'b', label='Validation loss')\n",
        "plt.title('Training and validation loss')\n",
        "plt.xlabel('Epochs')\n",
        "plt.ylabel('Loss')\n",
        "plt.legend()\n",
        "\n",
        "plt.show()"
      ],
      "metadata": {
        "colab": {
          "base_uri": "https://localhost:8080/",
          "height": 472
        },
        "id": "d4R3ZIMQoHvS",
        "outputId": "2366ecb6-a96f-480a-ad9e-79e8a02dd0c2"
      },
      "execution_count": 65,
      "outputs": [
        {
          "output_type": "display_data",
          "data": {
            "text/plain": [
              "<Figure size 640x480 with 1 Axes>"
            ],
            "image/png": "[encoded data removed]"
          },
          "metadata": {}
        }
      ]
    },
    {
      "cell_type": "code",
      "source": [
        "plt.clf()   # clear figure\n",
        "acc_values = history.history['acc']\n",
        "val_acc_values = history.history['val_acc']\n",
        "\n",
        "plt.plot(epochs, acc, 'bo', label='Training acc')\n",
        "plt.plot(epochs, val_acc, 'b', label='Validation acc')\n",
        "plt.title('Training and validation accuracy')\n",
        "plt.xlabel('Epochs')\n",
        "plt.ylabel('Loss')\n",
        "plt.legend()\n",
        "\n",
        "plt.show()"
      ],
      "metadata": {
        "colab": {
          "base_uri": "https://localhost:8080/",
          "height": 472
        },
        "id": "KnaESLZKpKGE",
        "outputId": "90a678b8-c2b2-4e0a-d611-b4fbe2e3a58f"
      },
      "execution_count": 67,
      "outputs": [
        {
          "output_type": "display_data",
          "data": {
            "text/plain": [
              "<Figure size 640x480 with 1 Axes>"
            ],
            "image/png": "[encoded data removed]"
          },
          "metadata": {}
        }
      ]
    },
    {
      "cell_type": "markdown",
      "source": [
        "__ train embedding parameters __"
      ],
      "metadata": {
        "id": "ComYjznrnePv"
      }
    },
    {
      "cell_type": "code",
      "source": [
        "# define model\n",
        "model_g = Sequential()\n",
        "model_g.add(Embedding(vocab_size, 100, weights=[embedding_matrix], input_length=max_len,trainable=True))  #  train embedding paramaters\n",
        "model_g.add(Flatten())\n",
        "model_g.add(Dense(16, activation='relu'))\n",
        "model_g.add(Dense(16, activation='relu'))\n",
        "model_g.add(Dense(1, activation='sigmoid'))\n",
        "\n",
        "# compile the model\n",
        "model_g.compile(optimizer='adam', loss='binary_crossentropy', metrics=['acc'])\n",
        "\n",
        "# fit the model\n",
        "histroy= model_g.fit(x_train,y_train,epochs=20,validation_data=(x_val,y_val))\n",
        "\n",
        "# summarize the model\n",
        "model_g.summary()\n",
        "\n",
        "# evaluate the model\n",
        "loss, accuracy = model_g.evaluate(x_test, y_test)\n",
        "\n",
        "print('Accuracy: %f' % (accuracy*100))"
      ],
      "metadata": {
        "colab": {
          "base_uri": "https://localhost:8080/",
          "height": 1000
        },
        "id": "GxD3Ayc1nO9C",
        "outputId": "12e455e7-b6a0-4102-c534-e295433d08b4"
      },
      "execution_count": 69,
      "outputs": [
        {
          "output_type": "stream",
          "name": "stderr",
          "text": [
            "/usr/local/lib/python3.10/dist-packages/keras/src/layers/core/embedding.py:90: UserWarning: Argument `input_length` is deprecated. Just remove it.\n",
            "  warnings.warn(\n"
          ]
        },
        {
          "output_type": "stream",
          "name": "stdout",
          "text": [
            "Epoch 1/20\n",
            "\u001b[1m469/469\u001b[0m \u001b[32m━━━━━━━━━━━━━━━━━━━━\u001b[0m\u001b[37m\u001b[0m \u001b[1m122s\u001b[0m 245ms/step - acc: 0.6703 - loss: 0.5862 - val_acc: 0.8063 - val_loss: 0.4173\n",
            "Epoch 2/20\n",
            "\u001b[1m469/469\u001b[0m \u001b[32m━━━━━━━━━━━━━━━━━━━━\u001b[0m\u001b[37m\u001b[0m \u001b[1m140s\u001b[0m 242ms/step - acc: 0.9099 - loss: 0.2369 - val_acc: 0.8182 - val_loss: 0.4363\n",
            "Epoch 3/20\n",
            "\u001b[1m469/469\u001b[0m \u001b[32m━━━━━━━━━━━━━━━━━━━━\u001b[0m\u001b[37m\u001b[0m \u001b[1m142s\u001b[0m 243ms/step - acc: 0.9793 - loss: 0.0707 - val_acc: 0.8156 - val_loss: 0.5793\n",
            "Epoch 4/20\n",
            "\u001b[1m469/469\u001b[0m \u001b[32m━━━━━━━━━━━━━━━━━━━━\u001b[0m\u001b[37m\u001b[0m \u001b[1m143s\u001b[0m 246ms/step - acc: 0.9965 - loss: 0.0167 - val_acc: 0.8190 - val_loss: 0.7673\n",
            "Epoch 5/20\n",
            "\u001b[1m469/469\u001b[0m \u001b[32m━━━━━━━━━━━━━━━━━━━━\u001b[0m\u001b[37m\u001b[0m \u001b[1m141s\u001b[0m 245ms/step - acc: 0.9997 - loss: 0.0033 - val_acc: 0.8175 - val_loss: 0.8870\n",
            "Epoch 6/20\n",
            "\u001b[1m469/469\u001b[0m \u001b[32m━━━━━━━━━━━━━━━━━━━━\u001b[0m\u001b[37m\u001b[0m \u001b[1m142s\u001b[0m 246ms/step - acc: 0.9998 - loss: 9.6295e-04 - val_acc: 0.8201 - val_loss: 0.9482\n",
            "Epoch 7/20\n",
            "\u001b[1m469/469\u001b[0m \u001b[32m━━━━━━━━━━━━━━━━━━━━\u001b[0m\u001b[37m\u001b[0m \u001b[1m143s\u001b[0m 248ms/step - acc: 1.0000 - loss: 3.0052e-04 - val_acc: 0.8200 - val_loss: 0.9982\n",
            "Epoch 8/20\n",
            "\u001b[1m469/469\u001b[0m \u001b[32m━━━━━━━━━━━━━━━━━━━━\u001b[0m\u001b[37m\u001b[0m \u001b[1m141s\u001b[0m 246ms/step - acc: 1.0000 - loss: 1.8603e-04 - val_acc: 0.8198 - val_loss: 1.0347\n",
            "Epoch 9/20\n",
            "\u001b[1m469/469\u001b[0m \u001b[32m━━━━━━━━━━━━━━━━━━━━\u001b[0m\u001b[37m\u001b[0m \u001b[1m142s\u001b[0m 246ms/step - acc: 0.9999 - loss: 1.5486e-04 - val_acc: 0.8212 - val_loss: 1.0645\n",
            "Epoch 10/20\n",
            "\u001b[1m469/469\u001b[0m \u001b[32m━━━━━━━━━━━━━━━━━━━━\u001b[0m\u001b[37m\u001b[0m \u001b[1m116s\u001b[0m 248ms/step - acc: 0.9999 - loss: 1.3067e-04 - val_acc: 0.8202 - val_loss: 1.0935\n",
            "Epoch 11/20\n",
            "\u001b[1m469/469\u001b[0m \u001b[32m━━━━━━━━━━━━━━━━━━━━\u001b[0m\u001b[37m\u001b[0m \u001b[1m142s\u001b[0m 248ms/step - acc: 0.9999 - loss: 8.8932e-05 - val_acc: 0.8203 - val_loss: 1.1192\n",
            "Epoch 12/20\n",
            "\u001b[1m469/469\u001b[0m \u001b[32m━━━━━━━━━━━━━━━━━━━━\u001b[0m\u001b[37m\u001b[0m \u001b[1m144s\u001b[0m 252ms/step - acc: 1.0000 - loss: 7.1975e-05 - val_acc: 0.8199 - val_loss: 1.1340\n",
            "Epoch 13/20\n",
            "\u001b[1m469/469\u001b[0m \u001b[32m━━━━━━━━━━━━━━━━━━━━\u001b[0m\u001b[37m\u001b[0m \u001b[1m140s\u001b[0m 248ms/step - acc: 1.0000 - loss: 4.8525e-05 - val_acc: 0.8189 - val_loss: 1.1838\n",
            "Epoch 14/20\n",
            "\u001b[1m469/469\u001b[0m \u001b[32m━━━━━━━━━━━━━━━━━━━━\u001b[0m\u001b[37m\u001b[0m \u001b[1m142s\u001b[0m 247ms/step - acc: 1.0000 - loss: 1.9773e-05 - val_acc: 0.8196 - val_loss: 1.2131\n",
            "Epoch 15/20\n",
            "\u001b[1m469/469\u001b[0m \u001b[32m━━━━━━━━━━━━━━━━━━━━\u001b[0m\u001b[37m\u001b[0m \u001b[1m142s\u001b[0m 247ms/step - acc: 1.0000 - loss: 1.3688e-05 - val_acc: 0.8187 - val_loss: 1.2408\n",
            "Epoch 16/20\n",
            "\u001b[1m469/469\u001b[0m \u001b[32m━━━━━━━━━━━━━━━━━━━━\u001b[0m\u001b[37m\u001b[0m \u001b[1m118s\u001b[0m 251ms/step - acc: 1.0000 - loss: 1.0286e-05 - val_acc: 0.8198 - val_loss: 1.2624\n",
            "Epoch 17/20\n",
            "\u001b[1m469/469\u001b[0m \u001b[32m━━━━━━━━━━━━━━━━━━━━\u001b[0m\u001b[37m\u001b[0m \u001b[1m142s\u001b[0m 251ms/step - acc: 1.0000 - loss: 7.6438e-06 - val_acc: 0.8188 - val_loss: 1.2896\n",
            "Epoch 18/20\n",
            "\u001b[1m469/469\u001b[0m \u001b[32m━━━━━━━━━━━━━━━━━━━━\u001b[0m\u001b[37m\u001b[0m \u001b[1m141s\u001b[0m 249ms/step - acc: 1.0000 - loss: 5.3788e-06 - val_acc: 0.8193 - val_loss: 1.3718\n",
            "Epoch 19/20\n",
            "\u001b[1m469/469\u001b[0m \u001b[32m━━━━━━━━━━━━━━━━━━━━\u001b[0m\u001b[37m\u001b[0m \u001b[1m115s\u001b[0m 244ms/step - acc: 1.0000 - loss: 2.7516e-06 - val_acc: 0.8197 - val_loss: 1.4141\n",
            "Epoch 20/20\n",
            "\u001b[1m469/469\u001b[0m \u001b[32m━━━━━━━━━━━━━━━━━━━━\u001b[0m\u001b[37m\u001b[0m \u001b[1m119s\u001b[0m 253ms/step - acc: 1.0000 - loss: 1.8318e-06 - val_acc: 0.8202 - val_loss: 1.4565\n"
          ]
        },
        {
          "output_type": "display_data",
          "data": {
            "text/plain": [
              "\u001b[1mModel: \"sequential_17\"\u001b[0m\n"
            ],
            "text/html": [
              "<pre style=\"white-space:pre;overflow-x:auto;line-height:normal;font-family:Menlo,'DejaVu Sans Mono',consolas,'Courier New',monospace\"><span style=\"font-weight: bold\">Model: \"sequential_17\"</span>\n",
              "</pre>\n"
            ]
          },
          "metadata": {}
        },
        {
          "output_type": "display_data",
          "data": {
            "text/plain": [
              "┏━━━━━━━━━━━━━━━━━━━━━━━━━━━━━━━━━━━━━━┳━━━━━━━━━━━━━━━━━━━━━━━━━━━━━┳━━━━━━━━━━━━━━━━━┓\n",
              "┃\u001b[1m \u001b[0m\u001b[1mLayer (type)                        \u001b[0m\u001b[1m \u001b[0m┃\u001b[1m \u001b[0m\u001b[1mOutput Shape               \u001b[0m\u001b[1m \u001b[0m┃\u001b[1m \u001b[0m\u001b[1m        Param #\u001b[0m\u001b[1m \u001b[0m┃\n",
              "┡━━━━━━━━━━━━━━━━━━━━━━━━━━━━━━━━━━━━━━╇━━━━━━━━━━━━━━━━━━━━━━━━━━━━━╇━━━━━━━━━━━━━━━━━┩\n",
              "│ embedding_13 (\u001b[38;5;33mEmbedding\u001b[0m)             │ (\u001b[38;5;45mNone\u001b[0m, \u001b[38;5;34m100\u001b[0m, \u001b[38;5;34m100\u001b[0m)            │      \u001b[38;5;34m14,107,000\u001b[0m │\n",
              "├──────────────────────────────────────┼─────────────────────────────┼─────────────────┤\n",
              "│ flatten_12 (\u001b[38;5;33mFlatten\u001b[0m)                 │ (\u001b[38;5;45mNone\u001b[0m, \u001b[38;5;34m10000\u001b[0m)               │               \u001b[38;5;34m0\u001b[0m │\n",
              "├──────────────────────────────────────┼─────────────────────────────┼─────────────────┤\n",
              "│ dense_48 (\u001b[38;5;33mDense\u001b[0m)                     │ (\u001b[38;5;45mNone\u001b[0m, \u001b[38;5;34m16\u001b[0m)                  │         \u001b[38;5;34m160,016\u001b[0m │\n",
              "├──────────────────────────────────────┼─────────────────────────────┼─────────────────┤\n",
              "│ dense_49 (\u001b[38;5;33mDense\u001b[0m)                     │ (\u001b[38;5;45mNone\u001b[0m, \u001b[38;5;34m16\u001b[0m)                  │             \u001b[38;5;34m272\u001b[0m │\n",
              "├──────────────────────────────────────┼─────────────────────────────┼─────────────────┤\n",
              "│ dense_50 (\u001b[38;5;33mDense\u001b[0m)                     │ (\u001b[38;5;45mNone\u001b[0m, \u001b[38;5;34m1\u001b[0m)                   │              \u001b[38;5;34m17\u001b[0m │\n",
              "└──────────────────────────────────────┴─────────────────────────────┴─────────────────┘\n"
            ],
            "text/html": [
              "<pre style=\"white-space:pre;overflow-x:auto;line-height:normal;font-family:Menlo,'DejaVu Sans Mono',consolas,'Courier New',monospace\">┏━━━━━━━━━━━━━━━━━━━━━━━━━━━━━━━━━━━━━━┳━━━━━━━━━━━━━━━━━━━━━━━━━━━━━┳━━━━━━━━━━━━━━━━━┓\n",
              "┃<span style=\"font-weight: bold\"> Layer (type)                         </span>┃<span style=\"font-weight: bold\"> Output Shape                </span>┃<span style=\"font-weight: bold\">         Param # </span>┃\n",
              "┡━━━━━━━━━━━━━━━━━━━━━━━━━━━━━━━━━━━━━━╇━━━━━━━━━━━━━━━━━━━━━━━━━━━━━╇━━━━━━━━━━━━━━━━━┩\n",
              "│ embedding_13 (<span style=\"color: #0087ff; text-decoration-color: #0087ff\">Embedding</span>)             │ (<span style=\"color: #00d7ff; text-decoration-color: #00d7ff\">None</span>, <span style=\"color: #00af00; text-decoration-color: #00af00\">100</span>, <span style=\"color: #00af00; text-decoration-color: #00af00\">100</span>)            │      <span style=\"color: #00af00; text-decoration-color: #00af00\">14,107,000</span> │\n",
              "├──────────────────────────────────────┼─────────────────────────────┼─────────────────┤\n",
              "│ flatten_12 (<span style=\"color: #0087ff; text-decoration-color: #0087ff\">Flatten</span>)                 │ (<span style=\"color: #00d7ff; text-decoration-color: #00d7ff\">None</span>, <span style=\"color: #00af00; text-decoration-color: #00af00\">10000</span>)               │               <span style=\"color: #00af00; text-decoration-color: #00af00\">0</span> │\n",
              "├──────────────────────────────────────┼─────────────────────────────┼─────────────────┤\n",
              "│ dense_48 (<span style=\"color: #0087ff; text-decoration-color: #0087ff\">Dense</span>)                     │ (<span style=\"color: #00d7ff; text-decoration-color: #00d7ff\">None</span>, <span style=\"color: #00af00; text-decoration-color: #00af00\">16</span>)                  │         <span style=\"color: #00af00; text-decoration-color: #00af00\">160,016</span> │\n",
              "├──────────────────────────────────────┼─────────────────────────────┼─────────────────┤\n",
              "│ dense_49 (<span style=\"color: #0087ff; text-decoration-color: #0087ff\">Dense</span>)                     │ (<span style=\"color: #00d7ff; text-decoration-color: #00d7ff\">None</span>, <span style=\"color: #00af00; text-decoration-color: #00af00\">16</span>)                  │             <span style=\"color: #00af00; text-decoration-color: #00af00\">272</span> │\n",
              "├──────────────────────────────────────┼─────────────────────────────┼─────────────────┤\n",
              "│ dense_50 (<span style=\"color: #0087ff; text-decoration-color: #0087ff\">Dense</span>)                     │ (<span style=\"color: #00d7ff; text-decoration-color: #00d7ff\">None</span>, <span style=\"color: #00af00; text-decoration-color: #00af00\">1</span>)                   │              <span style=\"color: #00af00; text-decoration-color: #00af00\">17</span> │\n",
              "└──────────────────────────────────────┴─────────────────────────────┴─────────────────┘\n",
              "</pre>\n"
            ]
          },
          "metadata": {}
        },
        {
          "output_type": "display_data",
          "data": {
            "text/plain": [
              "\u001b[1m Total params: \u001b[0m\u001b[38;5;34m42,801,917\u001b[0m (163.28 MB)\n"
            ],
            "text/html": [
              "<pre style=\"white-space:pre;overflow-x:auto;line-height:normal;font-family:Menlo,'DejaVu Sans Mono',consolas,'Courier New',monospace\"><span style=\"font-weight: bold\"> Total params: </span><span style=\"color: #00af00; text-decoration-color: #00af00\">42,801,917</span> (163.28 MB)\n",
              "</pre>\n"
            ]
          },
          "metadata": {}
        },
        {
          "output_type": "display_data",
          "data": {
            "text/plain": [
              "\u001b[1m Trainable params: \u001b[0m\u001b[38;5;34m14,267,305\u001b[0m (54.43 MB)\n"
            ],
            "text/html": [
              "<pre style=\"white-space:pre;overflow-x:auto;line-height:normal;font-family:Menlo,'DejaVu Sans Mono',consolas,'Courier New',monospace\"><span style=\"font-weight: bold\"> Trainable params: </span><span style=\"color: #00af00; text-decoration-color: #00af00\">14,267,305</span> (54.43 MB)\n",
              "</pre>\n"
            ]
          },
          "metadata": {}
        },
        {
          "output_type": "display_data",
          "data": {
            "text/plain": [
              "\u001b[1m Non-trainable params: \u001b[0m\u001b[38;5;34m0\u001b[0m (0.00 B)\n"
            ],
            "text/html": [
              "<pre style=\"white-space:pre;overflow-x:auto;line-height:normal;font-family:Menlo,'DejaVu Sans Mono',consolas,'Courier New',monospace\"><span style=\"font-weight: bold\"> Non-trainable params: </span><span style=\"color: #00af00; text-decoration-color: #00af00\">0</span> (0.00 B)\n",
              "</pre>\n"
            ]
          },
          "metadata": {}
        },
        {
          "output_type": "display_data",
          "data": {
            "text/plain": [
              "\u001b[1m Optimizer params: \u001b[0m\u001b[38;5;34m28,534,612\u001b[0m (108.85 MB)\n"
            ],
            "text/html": [
              "<pre style=\"white-space:pre;overflow-x:auto;line-height:normal;font-family:Menlo,'DejaVu Sans Mono',consolas,'Courier New',monospace\"><span style=\"font-weight: bold\"> Optimizer params: </span><span style=\"color: #00af00; text-decoration-color: #00af00\">28,534,612</span> (108.85 MB)\n",
              "</pre>\n"
            ]
          },
          "metadata": {}
        },
        {
          "output_type": "stream",
          "name": "stdout",
          "text": [
            "\u001b[1m782/782\u001b[0m \u001b[32m━━━━━━━━━━━━━━━━━━━━\u001b[0m\u001b[37m\u001b[0m \u001b[1m1s\u001b[0m 2ms/step - acc: 0.8231 - loss: 1.4172\n",
            "Accuracy: 82.103997\n"
          ]
        }
      ]
    }
  ]
}